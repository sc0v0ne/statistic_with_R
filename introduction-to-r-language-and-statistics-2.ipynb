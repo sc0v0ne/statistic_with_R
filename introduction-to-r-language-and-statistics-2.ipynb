{
 "cells": [
  {
   "cell_type": "markdown",
   "id": "27cdadce",
   "metadata": {
    "_cell_guid": "95650e58-3209-4dd1-a21b-cf993bb0addb",
    "_uuid": "184b0fcd-9a3f-497e-82dc-d83be1a03d08",
    "papermill": {
     "duration": 0.013659,
     "end_time": "2024-08-17T16:19:00.251265",
     "exception": false,
     "start_time": "2024-08-17T16:19:00.237606",
     "status": "completed"
    },
    "tags": []
   },
   "source": [
    "# Statistic with R - Part 2 - Explore Dataset Analysis"
   ]
  },
  {
   "cell_type": "markdown",
   "id": "5bd31b9f",
   "metadata": {
    "_cell_guid": "08767ee4-fe28-4622-960c-fc7fbd83764f",
    "_uuid": "8ed98fff-978f-47b3-a3e4-4ebf2170682f",
    "papermill": {
     "duration": 0.012693,
     "end_time": "2024-08-17T16:19:00.276039",
     "exception": false,
     "start_time": "2024-08-17T16:19:00.263346",
     "status": "completed"
    },
    "tags": []
   },
   "source": [
    "---------\n",
    "\n",
    "### mtcars"
   ]
  },
  {
   "cell_type": "code",
   "execution_count": 1,
   "id": "8cfdd763",
   "metadata": {
    "_cell_guid": "3aa308f6-75a3-475c-af5e-1c21c45d4b0b",
    "_execution_state": "idle",
    "_uuid": "a7158cff-911b-4814-b8b5-28ba6bf1ac37",
    "collapsed": false,
    "execution": {
     "iopub.execute_input": "2024-08-17T16:19:00.304769Z",
     "iopub.status.busy": "2024-08-17T16:19:00.302337Z",
     "iopub.status.idle": "2024-08-17T16:19:00.509871Z",
     "shell.execute_reply": "2024-08-17T16:19:00.507762Z"
    },
    "jupyter": {
     "outputs_hidden": false
    },
    "papermill": {
     "duration": 0.224676,
     "end_time": "2024-08-17T16:19:00.512643",
     "exception": false,
     "start_time": "2024-08-17T16:19:00.287967",
     "status": "completed"
    },
    "tags": []
   },
   "outputs": [
    {
     "data": {
      "text/html": [
       "<table class=\"dataframe\">\n",
       "<caption>A data.frame: 6 × 11</caption>\n",
       "<thead>\n",
       "\t<tr><th></th><th scope=col>mpg</th><th scope=col>cyl</th><th scope=col>disp</th><th scope=col>hp</th><th scope=col>drat</th><th scope=col>wt</th><th scope=col>qsec</th><th scope=col>vs</th><th scope=col>am</th><th scope=col>gear</th><th scope=col>carb</th></tr>\n",
       "\t<tr><th></th><th scope=col>&lt;dbl&gt;</th><th scope=col>&lt;dbl&gt;</th><th scope=col>&lt;dbl&gt;</th><th scope=col>&lt;dbl&gt;</th><th scope=col>&lt;dbl&gt;</th><th scope=col>&lt;dbl&gt;</th><th scope=col>&lt;dbl&gt;</th><th scope=col>&lt;dbl&gt;</th><th scope=col>&lt;dbl&gt;</th><th scope=col>&lt;dbl&gt;</th><th scope=col>&lt;dbl&gt;</th></tr>\n",
       "</thead>\n",
       "<tbody>\n",
       "\t<tr><th scope=row>Mazda RX4</th><td>21.0</td><td>6</td><td>160</td><td>110</td><td>3.90</td><td>2.620</td><td>16.46</td><td>0</td><td>1</td><td>4</td><td>4</td></tr>\n",
       "\t<tr><th scope=row>Mazda RX4 Wag</th><td>21.0</td><td>6</td><td>160</td><td>110</td><td>3.90</td><td>2.875</td><td>17.02</td><td>0</td><td>1</td><td>4</td><td>4</td></tr>\n",
       "\t<tr><th scope=row>Datsun 710</th><td>22.8</td><td>4</td><td>108</td><td> 93</td><td>3.85</td><td>2.320</td><td>18.61</td><td>1</td><td>1</td><td>4</td><td>1</td></tr>\n",
       "\t<tr><th scope=row>Hornet 4 Drive</th><td>21.4</td><td>6</td><td>258</td><td>110</td><td>3.08</td><td>3.215</td><td>19.44</td><td>1</td><td>0</td><td>3</td><td>1</td></tr>\n",
       "\t<tr><th scope=row>Hornet Sportabout</th><td>18.7</td><td>8</td><td>360</td><td>175</td><td>3.15</td><td>3.440</td><td>17.02</td><td>0</td><td>0</td><td>3</td><td>2</td></tr>\n",
       "\t<tr><th scope=row>Valiant</th><td>18.1</td><td>6</td><td>225</td><td>105</td><td>2.76</td><td>3.460</td><td>20.22</td><td>1</td><td>0</td><td>3</td><td>1</td></tr>\n",
       "</tbody>\n",
       "</table>\n"
      ],
      "text/latex": [
       "A data.frame: 6 × 11\n",
       "\\begin{tabular}{r|lllllllllll}\n",
       "  & mpg & cyl & disp & hp & drat & wt & qsec & vs & am & gear & carb\\\\\n",
       "  & <dbl> & <dbl> & <dbl> & <dbl> & <dbl> & <dbl> & <dbl> & <dbl> & <dbl> & <dbl> & <dbl>\\\\\n",
       "\\hline\n",
       "\tMazda RX4 & 21.0 & 6 & 160 & 110 & 3.90 & 2.620 & 16.46 & 0 & 1 & 4 & 4\\\\\n",
       "\tMazda RX4 Wag & 21.0 & 6 & 160 & 110 & 3.90 & 2.875 & 17.02 & 0 & 1 & 4 & 4\\\\\n",
       "\tDatsun 710 & 22.8 & 4 & 108 &  93 & 3.85 & 2.320 & 18.61 & 1 & 1 & 4 & 1\\\\\n",
       "\tHornet 4 Drive & 21.4 & 6 & 258 & 110 & 3.08 & 3.215 & 19.44 & 1 & 0 & 3 & 1\\\\\n",
       "\tHornet Sportabout & 18.7 & 8 & 360 & 175 & 3.15 & 3.440 & 17.02 & 0 & 0 & 3 & 2\\\\\n",
       "\tValiant & 18.1 & 6 & 225 & 105 & 2.76 & 3.460 & 20.22 & 1 & 0 & 3 & 1\\\\\n",
       "\\end{tabular}\n"
      ],
      "text/markdown": [
       "\n",
       "A data.frame: 6 × 11\n",
       "\n",
       "| <!--/--> | mpg &lt;dbl&gt; | cyl &lt;dbl&gt; | disp &lt;dbl&gt; | hp &lt;dbl&gt; | drat &lt;dbl&gt; | wt &lt;dbl&gt; | qsec &lt;dbl&gt; | vs &lt;dbl&gt; | am &lt;dbl&gt; | gear &lt;dbl&gt; | carb &lt;dbl&gt; |\n",
       "|---|---|---|---|---|---|---|---|---|---|---|---|\n",
       "| Mazda RX4 | 21.0 | 6 | 160 | 110 | 3.90 | 2.620 | 16.46 | 0 | 1 | 4 | 4 |\n",
       "| Mazda RX4 Wag | 21.0 | 6 | 160 | 110 | 3.90 | 2.875 | 17.02 | 0 | 1 | 4 | 4 |\n",
       "| Datsun 710 | 22.8 | 4 | 108 |  93 | 3.85 | 2.320 | 18.61 | 1 | 1 | 4 | 1 |\n",
       "| Hornet 4 Drive | 21.4 | 6 | 258 | 110 | 3.08 | 3.215 | 19.44 | 1 | 0 | 3 | 1 |\n",
       "| Hornet Sportabout | 18.7 | 8 | 360 | 175 | 3.15 | 3.440 | 17.02 | 0 | 0 | 3 | 2 |\n",
       "| Valiant | 18.1 | 6 | 225 | 105 | 2.76 | 3.460 | 20.22 | 1 | 0 | 3 | 1 |\n",
       "\n"
      ],
      "text/plain": [
       "                  mpg  cyl disp hp  drat wt    qsec  vs am gear carb\n",
       "Mazda RX4         21.0 6   160  110 3.90 2.620 16.46 0  1  4    4   \n",
       "Mazda RX4 Wag     21.0 6   160  110 3.90 2.875 17.02 0  1  4    4   \n",
       "Datsun 710        22.8 4   108   93 3.85 2.320 18.61 1  1  4    1   \n",
       "Hornet 4 Drive    21.4 6   258  110 3.08 3.215 19.44 1  0  3    1   \n",
       "Hornet Sportabout 18.7 8   360  175 3.15 3.440 17.02 0  0  3    2   \n",
       "Valiant           18.1 6   225  105 2.76 3.460 20.22 1  0  3    1   "
      ]
     },
     "metadata": {},
     "output_type": "display_data"
    }
   ],
   "source": [
    "data(mtcars)\n",
    "head(mtcars)"
   ]
  },
  {
   "cell_type": "markdown",
   "id": "2ca6b4a8",
   "metadata": {
    "_cell_guid": "e3b89f9f-ff9b-466e-909e-a9175d751af7",
    "_uuid": "a1f560a5-89d2-4076-afd6-695580b07489",
    "papermill": {
     "duration": 0.012796,
     "end_time": "2024-08-17T16:19:00.537776",
     "exception": false,
     "start_time": "2024-08-17T16:19:00.524980",
     "status": "completed"
    },
    "tags": []
   },
   "source": [
    "Loads and displays the first few rows of the mtcars dataset."
   ]
  },
  {
   "cell_type": "code",
   "execution_count": 2,
   "id": "60e43975",
   "metadata": {
    "_cell_guid": "3e662f27-e40e-4a94-bd30-fb1cd01eb441",
    "_uuid": "03b274e0-8085-4f94-97ba-1ac1e4754f24",
    "collapsed": false,
    "execution": {
     "iopub.execute_input": "2024-08-17T16:19:00.607125Z",
     "iopub.status.busy": "2024-08-17T16:19:00.565234Z",
     "iopub.status.idle": "2024-08-17T16:19:00.634928Z",
     "shell.execute_reply": "2024-08-17T16:19:00.632325Z"
    },
    "jupyter": {
     "outputs_hidden": false
    },
    "papermill": {
     "duration": 0.087547,
     "end_time": "2024-08-17T16:19:00.638053",
     "exception": false,
     "start_time": "2024-08-17T16:19:00.550506",
     "status": "completed"
    },
    "tags": []
   },
   "outputs": [
    {
     "name": "stdout",
     "output_type": "stream",
     "text": [
      "'data.frame':\t32 obs. of  11 variables:\n",
      " $ mpg : num  21 21 22.8 21.4 18.7 18.1 14.3 24.4 22.8 19.2 ...\n",
      " $ cyl : num  6 6 4 6 8 6 8 4 4 6 ...\n",
      " $ disp: num  160 160 108 258 360 ...\n",
      " $ hp  : num  110 110 93 110 175 105 245 62 95 123 ...\n",
      " $ drat: num  3.9 3.9 3.85 3.08 3.15 2.76 3.21 3.69 3.92 3.92 ...\n",
      " $ wt  : num  2.62 2.88 2.32 3.21 3.44 ...\n",
      " $ qsec: num  16.5 17 18.6 19.4 17 ...\n",
      " $ vs  : num  0 0 1 1 0 1 0 1 1 1 ...\n",
      " $ am  : num  1 1 1 0 0 0 0 0 0 0 ...\n",
      " $ gear: num  4 4 4 3 3 3 3 4 4 4 ...\n",
      " $ carb: num  4 4 1 1 2 1 4 2 2 4 ...\n"
     ]
    }
   ],
   "source": [
    "str(mtcars)"
   ]
  },
  {
   "cell_type": "markdown",
   "id": "5c07df06",
   "metadata": {
    "_cell_guid": "f8702cf6-371f-4772-9d7a-7880262e9ed6",
    "_uuid": "1d863f86-8fd8-42ad-af95-9f48c64298e3",
    "papermill": {
     "duration": 0.012268,
     "end_time": "2024-08-17T16:19:00.662936",
     "exception": false,
     "start_time": "2024-08-17T16:19:00.650668",
     "status": "completed"
    },
    "tags": []
   },
   "source": [
    "Displays the structure of the mtcars dataset, showing the type of each column."
   ]
  },
  {
   "cell_type": "code",
   "execution_count": 3,
   "id": "32fa460b",
   "metadata": {
    "_cell_guid": "45ad7762-1130-4997-8f73-49ca078417ea",
    "_uuid": "872365aa-f697-4696-a751-a0eeda1e4897",
    "collapsed": false,
    "execution": {
     "iopub.execute_input": "2024-08-17T16:19:00.692266Z",
     "iopub.status.busy": "2024-08-17T16:19:00.690418Z",
     "iopub.status.idle": "2024-08-17T16:19:00.715081Z",
     "shell.execute_reply": "2024-08-17T16:19:00.713047Z"
    },
    "jupyter": {
     "outputs_hidden": false
    },
    "papermill": {
     "duration": 0.04235,
     "end_time": "2024-08-17T16:19:00.717935",
     "exception": false,
     "start_time": "2024-08-17T16:19:00.675585",
     "status": "completed"
    },
    "tags": []
   },
   "outputs": [
    {
     "data": {
      "text/plain": [
       "      mpg             cyl             disp             hp       \n",
       " Min.   :10.40   Min.   :4.000   Min.   : 71.1   Min.   : 52.0  \n",
       " 1st Qu.:15.43   1st Qu.:4.000   1st Qu.:120.8   1st Qu.: 96.5  \n",
       " Median :19.20   Median :6.000   Median :196.3   Median :123.0  \n",
       " Mean   :20.09   Mean   :6.188   Mean   :230.7   Mean   :146.7  \n",
       " 3rd Qu.:22.80   3rd Qu.:8.000   3rd Qu.:326.0   3rd Qu.:180.0  \n",
       " Max.   :33.90   Max.   :8.000   Max.   :472.0   Max.   :335.0  \n",
       "      drat             wt             qsec             vs        \n",
       " Min.   :2.760   Min.   :1.513   Min.   :14.50   Min.   :0.0000  \n",
       " 1st Qu.:3.080   1st Qu.:2.581   1st Qu.:16.89   1st Qu.:0.0000  \n",
       " Median :3.695   Median :3.325   Median :17.71   Median :0.0000  \n",
       " Mean   :3.597   Mean   :3.217   Mean   :17.85   Mean   :0.4375  \n",
       " 3rd Qu.:3.920   3rd Qu.:3.610   3rd Qu.:18.90   3rd Qu.:1.0000  \n",
       " Max.   :4.930   Max.   :5.424   Max.   :22.90   Max.   :1.0000  \n",
       "       am              gear            carb      \n",
       " Min.   :0.0000   Min.   :3.000   Min.   :1.000  \n",
       " 1st Qu.:0.0000   1st Qu.:3.000   1st Qu.:2.000  \n",
       " Median :0.0000   Median :4.000   Median :2.000  \n",
       " Mean   :0.4062   Mean   :3.688   Mean   :2.812  \n",
       " 3rd Qu.:1.0000   3rd Qu.:4.000   3rd Qu.:4.000  \n",
       " Max.   :1.0000   Max.   :5.000   Max.   :8.000  "
      ]
     },
     "metadata": {},
     "output_type": "display_data"
    }
   ],
   "source": [
    "summary(mtcars)"
   ]
  },
  {
   "cell_type": "markdown",
   "id": "764e0fdb",
   "metadata": {
    "_cell_guid": "e1bdabab-95e3-465a-8f33-c385a28de08e",
    "_uuid": "d86701cd-c579-4a65-9285-456a1090d683",
    "papermill": {
     "duration": 0.012758,
     "end_time": "2024-08-17T16:19:00.743834",
     "exception": false,
     "start_time": "2024-08-17T16:19:00.731076",
     "status": "completed"
    },
    "tags": []
   },
   "source": [
    "---------\n",
    "\n",
    "## Measures of Central Tendency"
   ]
  },
  {
   "cell_type": "markdown",
   "id": "3b7b2db6",
   "metadata": {
    "_cell_guid": "1ea84265-56d8-4bbc-ab0f-e5c267d34eee",
    "_uuid": "3069a5b4-6c10-4516-bc9f-85dd7f44dd69",
    "papermill": {
     "duration": 0.01302,
     "end_time": "2024-08-17T16:19:00.769370",
     "exception": false,
     "start_time": "2024-08-17T16:19:00.756350",
     "status": "completed"
    },
    "tags": []
   },
   "source": [
    "-----\n",
    "\n",
    "#### Mean\n",
    "\n",
    "$\\mu = \\frac{1}{N} \\sum_{i=1}^{N} x_i$\n",
    "\n",
    "Calculates the mean of a sequence of numbers"
   ]
  },
  {
   "cell_type": "code",
   "execution_count": 4,
   "id": "5e2f4cdd",
   "metadata": {
    "_cell_guid": "323428d8-f6ba-4231-94c8-20caf9039ad2",
    "_uuid": "8e45153c-8320-4b79-aad4-f6c90c8f8df3",
    "collapsed": false,
    "execution": {
     "iopub.execute_input": "2024-08-17T16:19:00.799623Z",
     "iopub.status.busy": "2024-08-17T16:19:00.797823Z",
     "iopub.status.idle": "2024-08-17T16:19:00.829648Z",
     "shell.execute_reply": "2024-08-17T16:19:00.827459Z"
    },
    "jupyter": {
     "outputs_hidden": false
    },
    "papermill": {
     "duration": 0.050445,
     "end_time": "2024-08-17T16:19:00.833012",
     "exception": false,
     "start_time": "2024-08-17T16:19:00.782567",
     "status": "completed"
    },
    "tags": []
   },
   "outputs": [
    {
     "name": "stdout",
     "output_type": "stream",
     "text": [
      "[1] 1 2 4 5 6\n"
     ]
    },
    {
     "name": "stdout",
     "output_type": "stream",
     "text": [
      "[1] 3.6\n"
     ]
    }
   ],
   "source": [
    "n = c(1,2,4,5,6)\n",
    "\n",
    "print(n)\n",
    "\n",
    "mean_ = sum(n) / length(n)\n",
    "\n",
    "print(mean_)"
   ]
  },
  {
   "cell_type": "code",
   "execution_count": 5,
   "id": "46e1b11d",
   "metadata": {
    "_cell_guid": "adaf58f3-4bc5-487a-877d-eb79caa9999b",
    "_uuid": "77b013cd-fa3e-433d-85d0-a6489bc8059c",
    "collapsed": false,
    "execution": {
     "iopub.execute_input": "2024-08-17T16:19:00.862847Z",
     "iopub.status.busy": "2024-08-17T16:19:00.861071Z",
     "iopub.status.idle": "2024-08-17T16:19:00.884147Z",
     "shell.execute_reply": "2024-08-17T16:19:00.881504Z"
    },
    "jupyter": {
     "outputs_hidden": false
    },
    "papermill": {
     "duration": 0.042011,
     "end_time": "2024-08-17T16:19:00.887715",
     "exception": false,
     "start_time": "2024-08-17T16:19:00.845704",
     "status": "completed"
    },
    "tags": []
   },
   "outputs": [
    {
     "name": "stdout",
     "output_type": "stream",
     "text": [
      "[1] 6.1875\n"
     ]
    }
   ],
   "source": [
    "mean_cyl = sum(mtcars$cyl) / length(mtcars$cyl) \n",
    "\n",
    "print(mean_cyl)"
   ]
  },
  {
   "cell_type": "markdown",
   "id": "4af5f166",
   "metadata": {
    "_cell_guid": "d22ccbf5-053e-4edb-ab93-a0742ee9a570",
    "_uuid": "7f6eb9b4-3642-42a8-a0de-cabe26fb1327",
    "papermill": {
     "duration": 0.012953,
     "end_time": "2024-08-17T16:19:00.913380",
     "exception": false,
     "start_time": "2024-08-17T16:19:00.900427",
     "status": "completed"
    },
    "tags": []
   },
   "source": [
    "------\n",
    "\n",
    "#### Median\n",
    "\n",
    "- If \\( N \\) is odd:\n",
    "  \n",
    "$\\text{Med} = x_{\\left(\\frac{N+1}{2}\\right)}$\n",
    "\n",
    "- If \\( N \\) is even:\n",
    "\n",
    "$\\text{Med} = \\frac{x_{\\left(\\frac{N}{2}\\right)} + x_{\\left(\\frac{N}{2} + 1\\right)}}{2}$\n",
    "\n",
    "Calculates the median of a sequence of numbers with an odd size."
   ]
  },
  {
   "cell_type": "code",
   "execution_count": 6,
   "id": "c0fb81a0",
   "metadata": {
    "_cell_guid": "520aad0b-456e-4a50-b843-e774526d73c0",
    "_uuid": "7294d9b4-7479-4a0a-a52c-f7d6f64e07a6",
    "collapsed": false,
    "execution": {
     "iopub.execute_input": "2024-08-17T16:19:00.944788Z",
     "iopub.status.busy": "2024-08-17T16:19:00.942885Z",
     "iopub.status.idle": "2024-08-17T16:19:00.977343Z",
     "shell.execute_reply": "2024-08-17T16:19:00.974711Z"
    },
    "jupyter": {
     "outputs_hidden": false
    },
    "papermill": {
     "duration": 0.054215,
     "end_time": "2024-08-17T16:19:00.981086",
     "exception": false,
     "start_time": "2024-08-17T16:19:00.926871",
     "status": "completed"
    },
    "tags": []
   },
   "outputs": [
    {
     "name": "stdout",
     "output_type": "stream",
     "text": [
      "[1] 19\n"
     ]
    },
    {
     "name": "stdout",
     "output_type": "stream",
     "text": [
      "[1] 19\n"
     ]
    }
   ],
   "source": [
    "data_even <- c(7, 13, 19, 33, 67)\n",
    "\n",
    "median_ <- median(data_even)\n",
    "print(median_)\n",
    "\n",
    "data_even <- c(7, 13, 19, 33, 67)\n",
    "n = length(data_even)\n",
    "median_ <- data_even[(n + 1) / 2]\n",
    "print(median_)"
   ]
  },
  {
   "cell_type": "markdown",
   "id": "4b8b9b2a",
   "metadata": {
    "_cell_guid": "d29db8d5-7c58-4da5-90c7-62b445c5e411",
    "_uuid": "594eddcb-05cc-44c4-a5db-2e5c1908ebf4",
    "papermill": {
     "duration": 0.013587,
     "end_time": "2024-08-17T16:19:01.007672",
     "exception": false,
     "start_time": "2024-08-17T16:19:00.994085",
     "status": "completed"
    },
    "tags": []
   },
   "source": [
    "Calculates the median of a sequence of numbers with an even size."
   ]
  },
  {
   "cell_type": "code",
   "execution_count": 7,
   "id": "b959d6ab",
   "metadata": {
    "_cell_guid": "a1270563-9194-4ca6-a035-0e4c398ae3ad",
    "_uuid": "381aab47-a612-410c-a803-495ad4fdc6f3",
    "collapsed": false,
    "execution": {
     "iopub.execute_input": "2024-08-17T16:19:01.037872Z",
     "iopub.status.busy": "2024-08-17T16:19:01.036091Z",
     "iopub.status.idle": "2024-08-17T16:19:01.074758Z",
     "shell.execute_reply": "2024-08-17T16:19:01.071971Z"
    },
    "jupyter": {
     "outputs_hidden": false
    },
    "papermill": {
     "duration": 0.057718,
     "end_time": "2024-08-17T16:19:01.078347",
     "exception": false,
     "start_time": "2024-08-17T16:19:01.020629",
     "status": "completed"
    },
    "tags": []
   },
   "outputs": [
    {
     "name": "stdout",
     "output_type": "stream",
     "text": [
      "[1] 76\n"
     ]
    },
    {
     "name": "stdout",
     "output_type": "stream",
     "text": [
      "[1] 55\n"
     ]
    }
   ],
   "source": [
    "data_odd <- c(2, 34, 76, 92, 112)\n",
    "\n",
    "median_ <- median(data_odd)\n",
    "print(median_)\n",
    "\n",
    "data_odd <- c(2, 34, 76, 92, 112)\n",
    "n = length(data_odd)\n",
    "\n",
    "median_ <- (data_odd[n / 2] + data_odd[n / 2 + 1]) / 2\n",
    "\n",
    "print(median_)"
   ]
  },
  {
   "cell_type": "code",
   "execution_count": 8,
   "id": "9dfc1b96",
   "metadata": {
    "_cell_guid": "01c31a73-1898-4490-8120-f750996966e8",
    "_uuid": "d852f15e-d3cc-4783-8cca-00f99defe699",
    "collapsed": false,
    "execution": {
     "iopub.execute_input": "2024-08-17T16:19:01.108617Z",
     "iopub.status.busy": "2024-08-17T16:19:01.106868Z",
     "iopub.status.idle": "2024-08-17T16:19:01.128252Z",
     "shell.execute_reply": "2024-08-17T16:19:01.125574Z"
    },
    "jupyter": {
     "outputs_hidden": false
    },
    "papermill": {
     "duration": 0.040448,
     "end_time": "2024-08-17T16:19:01.131910",
     "exception": false,
     "start_time": "2024-08-17T16:19:01.091462",
     "status": "completed"
    },
    "tags": []
   },
   "outputs": [
    {
     "data": {
      "text/html": [
       "6"
      ],
      "text/latex": [
       "6"
      ],
      "text/markdown": [
       "6"
      ],
      "text/plain": [
       "[1] 6"
      ]
     },
     "metadata": {},
     "output_type": "display_data"
    }
   ],
   "source": [
    "median(mtcars$cyl)"
   ]
  },
  {
   "cell_type": "code",
   "execution_count": 9,
   "id": "05f0f085",
   "metadata": {
    "_cell_guid": "20d377dc-cc3a-43e0-a1d3-99fd6af0e063",
    "_uuid": "ea3dd47c-48a5-440f-803d-93074158cf03",
    "collapsed": false,
    "execution": {
     "iopub.execute_input": "2024-08-17T16:19:01.166318Z",
     "iopub.status.busy": "2024-08-17T16:19:01.164160Z",
     "iopub.status.idle": "2024-08-17T16:19:01.188885Z",
     "shell.execute_reply": "2024-08-17T16:19:01.184487Z"
    },
    "jupyter": {
     "outputs_hidden": false
    },
    "papermill": {
     "duration": 0.046614,
     "end_time": "2024-08-17T16:19:01.193036",
     "exception": false,
     "start_time": "2024-08-17T16:19:01.146422",
     "status": "completed"
    },
    "tags": []
   },
   "outputs": [
    {
     "data": {
      "text/html": [
       "17.71"
      ],
      "text/latex": [
       "17.71"
      ],
      "text/markdown": [
       "17.71"
      ],
      "text/plain": [
       "[1] 17.71"
      ]
     },
     "metadata": {},
     "output_type": "display_data"
    }
   ],
   "source": [
    "median(mtcars$qsec)"
   ]
  },
  {
   "cell_type": "markdown",
   "id": "ef55925a",
   "metadata": {
    "_cell_guid": "afd06d37-28fd-49dc-bae1-97b877fc01ae",
    "_uuid": "038d471b-3e02-4001-87db-3a99f32c36a7",
    "papermill": {
     "duration": 0.013642,
     "end_time": "2024-08-17T16:19:01.221040",
     "exception": false,
     "start_time": "2024-08-17T16:19:01.207398",
     "status": "completed"
    },
    "tags": []
   },
   "source": [
    "-----\n",
    "\n",
    "#### Mode\n",
    "\n",
    "$\\text{Mode} = \\underset{x_i}{\\operatorname{argmax}} \\ f(x_i)$\n",
    "\n",
    "Creates a frequency table for a sequence of numbers."
   ]
  },
  {
   "cell_type": "code",
   "execution_count": 10,
   "id": "4526b5e8",
   "metadata": {
    "_cell_guid": "84622b36-0b68-4a1b-b910-2dbebbc67edf",
    "_uuid": "b0cecabc-7399-4d75-bc09-a0d8556ea6a8",
    "collapsed": false,
    "execution": {
     "iopub.execute_input": "2024-08-17T16:19:01.253246Z",
     "iopub.status.busy": "2024-08-17T16:19:01.251544Z",
     "iopub.status.idle": "2024-08-17T16:19:01.281679Z",
     "shell.execute_reply": "2024-08-17T16:19:01.279288Z"
    },
    "jupyter": {
     "outputs_hidden": false
    },
    "papermill": {
     "duration": 0.050113,
     "end_time": "2024-08-17T16:19:01.284918",
     "exception": false,
     "start_time": "2024-08-17T16:19:01.234805",
     "status": "completed"
    },
    "tags": []
   },
   "outputs": [
    {
     "name": "stdout",
     "output_type": "stream",
     "text": [
      " [1]     1   233   233 10101   342     1     2  1111     1    55\n"
     ]
    },
    {
     "name": "stdout",
     "output_type": "stream",
     "text": [
      "numbers\n",
      "    1     2    55   233   342  1111 10101 \n",
      "    3     1     1     2     1     1     1 \n"
     ]
    }
   ],
   "source": [
    "numbers <- c(1, 233, 233, 010101, 342, 1, 2, 1111, 1, 55)\n",
    "\n",
    "tnumbers <- table(numbers)\n",
    "print(numbers)\n",
    "print(tnumbers)"
   ]
  },
  {
   "cell_type": "code",
   "execution_count": 11,
   "id": "fb8618ef",
   "metadata": {
    "_cell_guid": "7d1d1352-362b-4083-9a25-7b5651d7cdd8",
    "_uuid": "6f6fba9e-c393-422c-a64a-db233996790e",
    "collapsed": false,
    "execution": {
     "iopub.execute_input": "2024-08-17T16:19:01.317050Z",
     "iopub.status.busy": "2024-08-17T16:19:01.315361Z",
     "iopub.status.idle": "2024-08-17T16:19:01.333892Z",
     "shell.execute_reply": "2024-08-17T16:19:01.331681Z"
    },
    "jupyter": {
     "outputs_hidden": false
    },
    "papermill": {
     "duration": 0.037858,
     "end_time": "2024-08-17T16:19:01.336801",
     "exception": false,
     "start_time": "2024-08-17T16:19:01.298943",
     "status": "completed"
    },
    "tags": []
   },
   "outputs": [
    {
     "name": "stdout",
     "output_type": "stream",
     "text": [
      "[1] 1\n"
     ]
    }
   ],
   "source": [
    "mode_ <- as.numeric(names(tnumbers)[tnumbers == max(tnumbers)])\n",
    "print(mode_)"
   ]
  },
  {
   "cell_type": "markdown",
   "id": "d0e95dc9",
   "metadata": {
    "_cell_guid": "96693da3-8891-448c-b288-d2898566069f",
    "_uuid": "41f25bbe-6712-4748-a02e-a0e34c1811ab",
    "papermill": {
     "duration": 0.013869,
     "end_time": "2024-08-17T16:19:01.364481",
     "exception": false,
     "start_time": "2024-08-17T16:19:01.350612",
     "status": "completed"
    },
    "tags": []
   },
   "source": [
    "Identifies the most frequent value(s) in the sequence of numbers."
   ]
  },
  {
   "cell_type": "code",
   "execution_count": 12,
   "id": "4be17e13",
   "metadata": {
    "_cell_guid": "5a4440a6-8148-43e3-b27d-0cac9f055c1b",
    "_uuid": "dd2b8544-5ccb-4435-8c36-a8be4c3c86f8",
    "collapsed": false,
    "execution": {
     "iopub.execute_input": "2024-08-17T16:19:01.396225Z",
     "iopub.status.busy": "2024-08-17T16:19:01.394484Z",
     "iopub.status.idle": "2024-08-17T16:19:03.241807Z",
     "shell.execute_reply": "2024-08-17T16:19:03.239823Z"
    },
    "jupyter": {
     "outputs_hidden": false
    },
    "papermill": {
     "duration": 1.866078,
     "end_time": "2024-08-17T16:19:03.244613",
     "exception": false,
     "start_time": "2024-08-17T16:19:01.378535",
     "status": "completed"
    },
    "tags": []
   },
   "outputs": [],
   "source": [
    "library(DescTools)"
   ]
  },
  {
   "cell_type": "code",
   "execution_count": 13,
   "id": "7de5c7a7",
   "metadata": {
    "_cell_guid": "5665779c-84b0-406e-98fc-ae545446e108",
    "_uuid": "41aa3753-feaa-4cc5-b808-3980aeb6a7e5",
    "collapsed": false,
    "execution": {
     "iopub.execute_input": "2024-08-17T16:19:03.277157Z",
     "iopub.status.busy": "2024-08-17T16:19:03.274855Z",
     "iopub.status.idle": "2024-08-17T16:19:03.294965Z",
     "shell.execute_reply": "2024-08-17T16:19:03.292767Z"
    },
    "jupyter": {
     "outputs_hidden": false
    },
    "papermill": {
     "duration": 0.039288,
     "end_time": "2024-08-17T16:19:03.297793",
     "exception": false,
     "start_time": "2024-08-17T16:19:03.258505",
     "status": "completed"
    },
    "tags": []
   },
   "outputs": [
    {
     "name": "stdout",
     "output_type": "stream",
     "text": [
      "[1] 1\n",
      "attr(,\"freq\")\n",
      "[1] 5\n"
     ]
    }
   ],
   "source": [
    "mode_ <- Mode(tnumbers)\n",
    "print(mode_)"
   ]
  },
  {
   "cell_type": "markdown",
   "id": "97983f27",
   "metadata": {
    "_cell_guid": "82e0e77c-696f-415e-b9a5-81b8513d85ce",
    "_uuid": "724bcf9f-4455-46d3-a899-52129d7eb64e",
    "papermill": {
     "duration": 0.013981,
     "end_time": "2024-08-17T16:19:03.325805",
     "exception": false,
     "start_time": "2024-08-17T16:19:03.311824",
     "status": "completed"
    },
    "tags": []
   },
   "source": [
    "----\n",
    "\n",
    "## Measures of Dispersion"
   ]
  },
  {
   "cell_type": "markdown",
   "id": "096c3441",
   "metadata": {
    "_cell_guid": "c41eb304-417f-48e7-9615-476014b660b3",
    "_uuid": "44cbf43d-2668-48c4-960c-2b10acbdb40a",
    "papermill": {
     "duration": 0.013955,
     "end_time": "2024-08-17T16:19:03.353768",
     "exception": false,
     "start_time": "2024-08-17T16:19:03.339813",
     "status": "completed"
    },
    "tags": []
   },
   "source": [
    "Defines a sequence of numbers."
   ]
  },
  {
   "cell_type": "code",
   "execution_count": 14,
   "id": "d6b5cfa2",
   "metadata": {
    "_cell_guid": "2627ecc1-6787-43df-92b2-e635b394ac76",
    "_uuid": "199756bc-df16-4f95-a7d2-9e02f6c9bce6",
    "collapsed": false,
    "execution": {
     "iopub.execute_input": "2024-08-17T16:19:03.386526Z",
     "iopub.status.busy": "2024-08-17T16:19:03.384648Z",
     "iopub.status.idle": "2024-08-17T16:19:03.404422Z",
     "shell.execute_reply": "2024-08-17T16:19:03.401976Z"
    },
    "jupyter": {
     "outputs_hidden": false
    },
    "papermill": {
     "duration": 0.039588,
     "end_time": "2024-08-17T16:19:03.407853",
     "exception": false,
     "start_time": "2024-08-17T16:19:03.368265",
     "status": "completed"
    },
    "tags": []
   },
   "outputs": [
    {
     "name": "stdout",
     "output_type": "stream",
     "text": [
      "[1] 1 2 4 5 6\n"
     ]
    }
   ],
   "source": [
    "n_arr = c(1,2,4,5,6)\n",
    "print(n_arr)"
   ]
  },
  {
   "cell_type": "markdown",
   "id": "30c5eec5",
   "metadata": {
    "_cell_guid": "8bb9faec-b2ba-4738-a3eb-1c10506a252a",
    "_uuid": "9e549ac2-7189-4e9c-a593-f2daeccaef0f",
    "papermill": {
     "duration": 0.014197,
     "end_time": "2024-08-17T16:19:03.436529",
     "exception": false,
     "start_time": "2024-08-17T16:19:03.422332",
     "status": "completed"
    },
    "tags": []
   },
   "source": [
    "------\n",
    "#### Variance\n",
    "\n",
    "$\\sigma^2 = \\frac{1}{N} \\sum_{i=1}^{N} (x_i - \\mu)^2$\n",
    "\n",
    "Calculates the variance of a sequence of numbers."
   ]
  },
  {
   "cell_type": "code",
   "execution_count": 15,
   "id": "2d5e4f09",
   "metadata": {
    "_cell_guid": "098c5d8f-3675-46ee-9482-c8dada062a75",
    "_uuid": "474786ff-443d-4a3a-9d3b-0aeff3994655",
    "collapsed": false,
    "execution": {
     "iopub.execute_input": "2024-08-17T16:19:03.468485Z",
     "iopub.status.busy": "2024-08-17T16:19:03.466764Z",
     "iopub.status.idle": "2024-08-17T16:19:03.534739Z",
     "shell.execute_reply": "2024-08-17T16:19:03.532417Z"
    },
    "jupyter": {
     "outputs_hidden": false
    },
    "papermill": {
     "duration": 0.087537,
     "end_time": "2024-08-17T16:19:03.538093",
     "exception": false,
     "start_time": "2024-08-17T16:19:03.450556",
     "status": "completed"
    },
    "tags": []
   },
   "outputs": [
    {
     "name": "stdout",
     "output_type": "stream",
     "text": [
      "[1] \"Mean\"\n"
     ]
    },
    {
     "name": "stdout",
     "output_type": "stream",
     "text": [
      "[1] 3.6\n"
     ]
    },
    {
     "name": "stdout",
     "output_type": "stream",
     "text": [
      "[1] \"Variance\"\n"
     ]
    },
    {
     "name": "stdout",
     "output_type": "stream",
     "text": [
      "[1] -2.6 -1.6  0.4  1.4  2.4\n"
     ]
    },
    {
     "name": "stdout",
     "output_type": "stream",
     "text": [
      "[1] 6.76 2.56 0.16 1.96 5.76\n"
     ]
    },
    {
     "name": "stdout",
     "output_type": "stream",
     "text": [
      "[1] 17.2\n"
     ]
    },
    {
     "name": "stdout",
     "output_type": "stream",
     "text": [
      "[1] 5\n"
     ]
    },
    {
     "name": "stdout",
     "output_type": "stream",
     "text": [
      "[1] 3.44\n"
     ]
    }
   ],
   "source": [
    "mean_ <- mean(n_arr)\n",
    "\n",
    "print('Mean')\n",
    "print(mean_)\n",
    "\n",
    "print('Variance')\n",
    "var_ <- sum((n_arr - mean_)^2) / length(n_arr)\n",
    "\n",
    "print((n_arr - mean_))\n",
    "print((n_arr - mean_)^2)\n",
    "print(sum((n_arr - mean_)^2))\n",
    "print(length(n_arr))\n",
    "print(var_)"
   ]
  },
  {
   "cell_type": "markdown",
   "id": "786bc7f6",
   "metadata": {
    "_cell_guid": "d3f3c86f-0875-47dc-8f56-92ad813a0cd0",
    "_uuid": "38bd1a55-3bb3-4909-a25f-7d4a9f0bc0bc",
    "papermill": {
     "duration": 0.01486,
     "end_time": "2024-08-17T16:19:03.567834",
     "exception": false,
     "start_time": "2024-08-17T16:19:03.552974",
     "status": "completed"
    },
    "tags": []
   },
   "source": [
    "-----\n",
    "#### Standard Deviation\n",
    "\n",
    "$\\sigma = \\sqrt{\\sigma^2}$\n",
    "\n",
    "Calculates the standard deviation, which is the square root of the variance."
   ]
  },
  {
   "cell_type": "code",
   "execution_count": 16,
   "id": "88a5ce5a",
   "metadata": {
    "_cell_guid": "421ea331-d07d-4361-b981-78cddc179929",
    "_uuid": "0e3a3ea7-4fea-48c8-83c3-60bc36f7c810",
    "collapsed": false,
    "execution": {
     "iopub.execute_input": "2024-08-17T16:19:03.601982Z",
     "iopub.status.busy": "2024-08-17T16:19:03.599823Z",
     "iopub.status.idle": "2024-08-17T16:19:03.650309Z",
     "shell.execute_reply": "2024-08-17T16:19:03.648172Z"
    },
    "jupyter": {
     "outputs_hidden": false
    },
    "papermill": {
     "duration": 0.070428,
     "end_time": "2024-08-17T16:19:03.653082",
     "exception": false,
     "start_time": "2024-08-17T16:19:03.582654",
     "status": "completed"
    },
    "tags": []
   },
   "outputs": [
    {
     "name": "stdout",
     "output_type": "stream",
     "text": [
      "[1] \"Variance\"\n"
     ]
    },
    {
     "name": "stdout",
     "output_type": "stream",
     "text": [
      "[1] -2.6 -1.6  0.4  1.4  2.4\n"
     ]
    },
    {
     "name": "stdout",
     "output_type": "stream",
     "text": [
      "[1] 6.76 2.56 0.16 1.96 5.76\n"
     ]
    },
    {
     "name": "stdout",
     "output_type": "stream",
     "text": [
      "[1] 17.2\n"
     ]
    },
    {
     "name": "stdout",
     "output_type": "stream",
     "text": [
      "[1] 5\n"
     ]
    },
    {
     "name": "stdout",
     "output_type": "stream",
     "text": [
      "[1] 3.44\n"
     ]
    },
    {
     "name": "stdout",
     "output_type": "stream",
     "text": [
      "[1] \"Standard Deviation\"\n"
     ]
    },
    {
     "name": "stdout",
     "output_type": "stream",
     "text": [
      "[1] 1.854724\n"
     ]
    }
   ],
   "source": [
    "print('Variance')\n",
    "var_ <- sum((n_arr - mean_)^2) / length(n_arr)\n",
    "print((n_arr - mean_))\n",
    "print((n_arr - mean_)^2)\n",
    "print(sum((n_arr - mean_)^2))\n",
    "print(length(n_arr))\n",
    "print(var_)\n",
    "\n",
    "print('Standard Deviation')\n",
    "std_ <- sqrt(var_)\n",
    "print(std_)"
   ]
  },
  {
   "cell_type": "markdown",
   "id": "e45f0607",
   "metadata": {
    "_cell_guid": "32f152b4-b108-4dbf-91a8-a28384bcfb6a",
    "_uuid": "e50e3cf2-6196-4d59-a863-ac2b8c27e744",
    "papermill": {
     "duration": 0.015746,
     "end_time": "2024-08-17T16:19:03.684784",
     "exception": false,
     "start_time": "2024-08-17T16:19:03.669038",
     "status": "completed"
    },
    "tags": []
   },
   "source": [
    "Calculates the standard deviation using the sd function in R."
   ]
  },
  {
   "cell_type": "code",
   "execution_count": 17,
   "id": "0f78678a",
   "metadata": {
    "_cell_guid": "d1472ed7-653d-483e-be18-0edbcd7ad85b",
    "_uuid": "77ea903b-1914-4760-a2d0-f98dc2807577",
    "collapsed": false,
    "execution": {
     "iopub.execute_input": "2024-08-17T16:19:03.719890Z",
     "iopub.status.busy": "2024-08-17T16:19:03.718058Z",
     "iopub.status.idle": "2024-08-17T16:19:03.738328Z",
     "shell.execute_reply": "2024-08-17T16:19:03.736095Z"
    },
    "jupyter": {
     "outputs_hidden": false
    },
    "papermill": {
     "duration": 0.041313,
     "end_time": "2024-08-17T16:19:03.741557",
     "exception": false,
     "start_time": "2024-08-17T16:19:03.700244",
     "status": "completed"
    },
    "tags": []
   },
   "outputs": [
    {
     "name": "stdout",
     "output_type": "stream",
     "text": [
      "[1] 2.073644\n"
     ]
    }
   ],
   "source": [
    "std_ <- sd(n_arr)\n",
    "print(std_)"
   ]
  },
  {
   "cell_type": "markdown",
   "id": "729ed090",
   "metadata": {
    "_cell_guid": "9250f4bd-e9bf-4596-ab88-b705bdab8940",
    "_uuid": "b7ac0f52-6cb5-4f0f-a9b3-acef5c03dc7e",
    "papermill": {
     "duration": 0.015875,
     "end_time": "2024-08-17T16:19:03.773222",
     "exception": false,
     "start_time": "2024-08-17T16:19:03.757347",
     "status": "completed"
    },
    "tags": []
   },
   "source": [
    "-----\n",
    "#### Range\n",
    "\n",
    "$\\text{Range} = x_{\\text{max}} - x_{\\text{min}}$\n",
    "\n",
    "Calculates the range, which is the difference between the maximum and minimum values."
   ]
  },
  {
   "cell_type": "code",
   "execution_count": 18,
   "id": "f6365f0e",
   "metadata": {
    "_cell_guid": "ce90ee93-2bc1-46aa-a2ce-e5974c782f9d",
    "_uuid": "1ec74683-da3d-4f3a-a86a-99c6ec12c1cd",
    "collapsed": false,
    "execution": {
     "iopub.execute_input": "2024-08-17T16:19:03.808693Z",
     "iopub.status.busy": "2024-08-17T16:19:03.806921Z",
     "iopub.status.idle": "2024-08-17T16:19:03.839138Z",
     "shell.execute_reply": "2024-08-17T16:19:03.836975Z"
    },
    "jupyter": {
     "outputs_hidden": false
    },
    "papermill": {
     "duration": 0.053108,
     "end_time": "2024-08-17T16:19:03.842077",
     "exception": false,
     "start_time": "2024-08-17T16:19:03.788969",
     "status": "completed"
    },
    "tags": []
   },
   "outputs": [
    {
     "name": "stdout",
     "output_type": "stream",
     "text": [
      "[1] \"Range\"\n"
     ]
    },
    {
     "name": "stdout",
     "output_type": "stream",
     "text": [
      "[1] 6\n"
     ]
    },
    {
     "name": "stdout",
     "output_type": "stream",
     "text": [
      "[1] 1\n"
     ]
    },
    {
     "name": "stdout",
     "output_type": "stream",
     "text": [
      "[1] 5\n"
     ]
    }
   ],
   "source": [
    "range_ <- max(n_arr) - min(n_arr)\n",
    "print('Range')\n",
    "print(max(n_arr))\n",
    "print(min(n_arr))\n",
    "print(range_)"
   ]
  },
  {
   "cell_type": "markdown",
   "id": "d6668d91",
   "metadata": {
    "_cell_guid": "564fe670-63b1-4783-808c-97f200148965",
    "_uuid": "6c35fc44-7a4c-4d8d-b392-269aeb893780",
    "papermill": {
     "duration": 0.052205,
     "end_time": "2024-08-17T16:19:03.911099",
     "exception": false,
     "start_time": "2024-08-17T16:19:03.858894",
     "status": "completed"
    },
    "tags": []
   },
   "source": [
    "Calculates the range using the diff function."
   ]
  },
  {
   "cell_type": "code",
   "execution_count": 19,
   "id": "701f2398",
   "metadata": {
    "_cell_guid": "1709a69d-46c9-49ef-aa84-b7f759ecfe3a",
    "_uuid": "6dd00021-a229-4a01-961d-f2e66fc21068",
    "collapsed": false,
    "execution": {
     "iopub.execute_input": "2024-08-17T16:19:03.948388Z",
     "iopub.status.busy": "2024-08-17T16:19:03.946582Z",
     "iopub.status.idle": "2024-08-17T16:19:03.971419Z",
     "shell.execute_reply": "2024-08-17T16:19:03.969085Z"
    },
    "jupyter": {
     "outputs_hidden": false
    },
    "papermill": {
     "duration": 0.046738,
     "end_time": "2024-08-17T16:19:03.974255",
     "exception": false,
     "start_time": "2024-08-17T16:19:03.927517",
     "status": "completed"
    },
    "tags": []
   },
   "outputs": [
    {
     "name": "stdout",
     "output_type": "stream",
     "text": [
      "[1] 5\n"
     ]
    }
   ],
   "source": [
    "range_ <- diff(range(n_arr))\n",
    "print(range_)"
   ]
  },
  {
   "cell_type": "markdown",
   "id": "6f560847",
   "metadata": {
    "_cell_guid": "bfb446cf-1f01-4504-a9d3-ba6808582186",
    "_uuid": "9160096b-3dc7-404a-adc0-9955666eba8c",
    "papermill": {
     "duration": 0.016508,
     "end_time": "2024-08-17T16:19:04.007223",
     "exception": false,
     "start_time": "2024-08-17T16:19:03.990715",
     "status": "completed"
    },
    "tags": []
   },
   "source": [
    "-----\n",
    "#### Coefficient of Variation\n",
    "\n",
    "$\\text{CV} = \\frac{\\sigma}{\\mu}$\n",
    "\n",
    "Calculates the coefficient of variation, which is the ratio of the standard deviation to the mean"
   ]
  },
  {
   "cell_type": "code",
   "execution_count": 20,
   "id": "9df1d110",
   "metadata": {
    "_cell_guid": "0036aa8d-1671-4e80-8673-27d2663d52c6",
    "_uuid": "43a642bd-d784-4433-98c7-f57419cc8bcc",
    "collapsed": false,
    "execution": {
     "iopub.execute_input": "2024-08-17T16:19:04.044750Z",
     "iopub.status.busy": "2024-08-17T16:19:04.042776Z",
     "iopub.status.idle": "2024-08-17T16:19:04.116794Z",
     "shell.execute_reply": "2024-08-17T16:19:04.114569Z"
    },
    "jupyter": {
     "outputs_hidden": false
    },
    "papermill": {
     "duration": 0.09555,
     "end_time": "2024-08-17T16:19:04.119621",
     "exception": false,
     "start_time": "2024-08-17T16:19:04.024071",
     "status": "completed"
    },
    "tags": []
   },
   "outputs": [
    {
     "name": "stdout",
     "output_type": "stream",
     "text": [
      "[1] \"Mean\"\n"
     ]
    },
    {
     "name": "stdout",
     "output_type": "stream",
     "text": [
      "[1] 3.6\n"
     ]
    },
    {
     "name": "stdout",
     "output_type": "stream",
     "text": [
      "[1] \"Variance\"\n"
     ]
    },
    {
     "name": "stdout",
     "output_type": "stream",
     "text": [
      "[1] -2.6 -1.6  0.4  1.4  2.4\n"
     ]
    },
    {
     "name": "stdout",
     "output_type": "stream",
     "text": [
      "[1] 6.76 2.56 0.16 1.96 5.76\n"
     ]
    },
    {
     "name": "stdout",
     "output_type": "stream",
     "text": [
      "[1] 17.2\n"
     ]
    },
    {
     "name": "stdout",
     "output_type": "stream",
     "text": [
      "[1] 5\n"
     ]
    },
    {
     "name": "stdout",
     "output_type": "stream",
     "text": [
      "[1] 3.44\n"
     ]
    },
    {
     "name": "stdout",
     "output_type": "stream",
     "text": [
      "[1] \"Standard Deviation\"\n"
     ]
    },
    {
     "name": "stdout",
     "output_type": "stream",
     "text": [
      "[1] 1.854724\n"
     ]
    },
    {
     "name": "stdout",
     "output_type": "stream",
     "text": [
      "[1] \"Coefficient of Variation\"\n"
     ]
    },
    {
     "name": "stdout",
     "output_type": "stream",
     "text": [
      "[1] 0.515201\n"
     ]
    }
   ],
   "source": [
    "mean_ <- mean(n_arr)\n",
    "print('Mean')\n",
    "print(mean_)\n",
    "\n",
    "print('Variance')\n",
    "var_ <- sum((n_arr - mean_)^2) / length(n_arr)\n",
    "print((n_arr - mean_))\n",
    "print((n_arr - mean_)^2)\n",
    "print(sum((n_arr - mean_)^2))\n",
    "print(length(n_arr))\n",
    "print(var_)\n",
    "\n",
    "print('Standard Deviation')\n",
    "std_ <- sqrt(var_)\n",
    "print(std_)\n",
    "\n",
    "print('Coefficient of Variation')\n",
    "cv <- std_ / mean_\n",
    "print(cv)"
   ]
  },
  {
   "cell_type": "markdown",
   "id": "cc3b6a20",
   "metadata": {
    "papermill": {
     "duration": 0.01938,
     "end_time": "2024-08-17T16:19:04.157660",
     "exception": false,
     "start_time": "2024-08-17T16:19:04.138280",
     "status": "completed"
    },
    "tags": []
   },
   "source": [
    "## About the author:\n",
    "\n",
    "\n",
    "**A little more about me...**\n",
    "\n",
    "Graduated in Bachelor of Information Systems, in college I had contact with different technologies. Along the way, I took the Artificial Intelligence course, where I had my first contact with machine learning and Python. From this it became my passion to learn about this area. Today I work with machine learning and deep learning developing communication software. Along the way, I created a blog where I create some posts about subjects that I am studying and share them to help other users.\n",
    "\n",
    "I'm currently learning TensorFlow and Computer Vision\n",
    "\n",
    "Curiosity: I love coffee\n",
    "\n",
    "- [Kaggle](https://www.kaggle.com/sc0v1n0)\n",
    "- [Gitlab](https://gitlab.com/sc0v0n3)\n",
    "- [Github](https://github.com/sc0v0ne)\n",
    "- [Mastodon](https://mastodon.social/@sc0v0ne)\n",
    "\n",
    "## Favorites Projects Open Source\n",
    "\n",
    "- [🐍 Python](https://github.com/stars/sc0v0ne/lists/python)\n",
    "- [🖥️ Deep Learning](https://github.com/stars/sc0v0ne/lists/deep-learning)\n",
    "- [👀 Computer Vision](https://github.com/stars/sc0v0ne/lists/computer-vision)\n",
    "- [🖥️ Linux](https://github.com/stars/sc0v0ne/lists/linux)\n",
    "- [📉 Times Series](https://github.com/stars/sc0v0ne/lists/times-series)\n",
    "- [💾 Database](https://github.com/stars/sc0v0ne/lists/database)\n",
    "- [🦀 Rust](https://github.com/stars/sc0v0ne/lists/rust)\n",
    "- [🖥️ Machine Learning](https://github.com/stars/sc0v0ne/lists/machine-learning)\n",
    "- [🛣️ Roadmaps](https://github.com/stars/sc0v0ne/lists/roadmaps)\n",
    "\n",
    "----\n",
    "\n"
   ]
  }
 ],
 "metadata": {
  "kaggle": {
   "accelerator": "none",
   "dataSources": [
    {
     "datasetId": 1681963,
     "sourceId": 2756653,
     "sourceType": "datasetVersion"
    }
   ],
   "dockerImageVersionId": 30746,
   "isGpuEnabled": false,
   "isInternetEnabled": true,
   "language": "r",
   "sourceType": "notebook"
  },
  "kernelspec": {
   "display_name": "R",
   "language": "R",
   "name": "ir"
  },
  "language_info": {
   "codemirror_mode": "r",
   "file_extension": ".r",
   "mimetype": "text/x-r-source",
   "name": "R",
   "pygments_lexer": "r",
   "version": "4.4.0"
  },
  "papermill": {
   "default_parameters": {},
   "duration": 7.753537,
   "end_time": "2024-08-17T16:19:04.301086",
   "environment_variables": {},
   "exception": null,
   "input_path": "__notebook__.ipynb",
   "output_path": "__notebook__.ipynb",
   "parameters": {},
   "start_time": "2024-08-17T16:18:56.547549",
   "version": "2.6.0"
  }
 },
 "nbformat": 4,
 "nbformat_minor": 5
}
