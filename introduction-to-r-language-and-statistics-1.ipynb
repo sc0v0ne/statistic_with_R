{
 "cells": [
  {
   "cell_type": "markdown",
   "id": "2792e4d8",
   "metadata": {
    "papermill": {
     "duration": 0.018764,
     "end_time": "2024-08-17T16:19:04.399109",
     "exception": false,
     "start_time": "2024-08-17T16:19:04.380345",
     "status": "completed"
    },
    "tags": []
   },
   "source": [
    "<a id=\"ref4\"></a> <h1 align=center>Statistics with R - Introduction to R Language and Statistics</h1> -----\n",
    "\n",
    "## What is statistics?\n",
    "\n",
    "Statistics is a science, where we use information from our world to provide answers to the questions created. But how is it science? Using statistics is not enough to just collect data (information), the data needs to be trained, understood and processed to obtain a final result. This entire process until reaching the result brings a learning of great value. Where at each point that you manipulate it can bring a different result. I don't think it's that bad, it can be a challenge, having to test and evaluate again until reaching an effective result.\n",
    "\n",
    "Within statistics there are several visual, mathematical, data collection and software tools. To be able to address various real-world problems. The most incredible thing about statistics is that it is interdisciplinary. Every area that you think will have something statistical connected to it. Starting with the simplest thing, the TV news shows the weather forecast. The weather is constantly changing, but through data collection, there are already known patterns used to forecast the weather for the next day. Going further, understanding space, for example, supernovae, using what is already known to measure cosmic distances.\n",
    "\n",
    "## Why should we study statistics?\n",
    "\n",
    "By learning statistics, we can understand the biggest problems in our world, where observation alone does not provide answers. By collecting and studying data, we can find more data that we cannot visualize without proper processing.\n",
    "\n",
    "## Why use the R language?\n",
    "\n",
    "The R language is a programming language focused on statistics. It has a wide variety of algorithms and functions to apply to various statistical problems. It is possible to explore data sets, process data, visualize and more diverse resources available in its documentation. Furthermore, the project is open source, meaning that any human being can consult the code and assist in the development and evolution of the project.\n",
    "\n",
    "- [R Project for Statistical Computing](https://www.r-project.org)"
   ]
  },
  {
   "cell_type": "markdown",
   "id": "bae7a619",
   "metadata": {
    "papermill": {
     "duration": 0.017125,
     "end_time": "2024-08-17T16:19:04.432511",
     "exception": false,
     "start_time": "2024-08-17T16:19:04.415386",
     "status": "completed"
    },
    "tags": []
   },
   "source": [
    "-----\n",
    "\n",
    "## Comments\n",
    "\n",
    "#### Single-Line Comments in R\n",
    "\n"
   ]
  },
  {
   "cell_type": "code",
   "execution_count": 1,
   "id": "cfecdf5c",
   "metadata": {
    "_execution_state": "idle",
    "_uuid": "051d70d956493feee0c6d64651c6a088724dca2a",
    "execution": {
     "iopub.execute_input": "2024-08-17T16:19:04.469660Z",
     "iopub.status.busy": "2024-08-17T16:19:04.467499Z",
     "iopub.status.idle": "2024-08-17T16:19:04.584176Z",
     "shell.execute_reply": "2024-08-17T16:19:04.582350Z"
    },
    "papermill": {
     "duration": 0.137696,
     "end_time": "2024-08-17T16:19:04.586687",
     "exception": false,
     "start_time": "2024-08-17T16:19:04.448991",
     "status": "completed"
    },
    "tags": []
   },
   "outputs": [],
   "source": [
    "# Hey !!!!!"
   ]
  },
  {
   "cell_type": "markdown",
   "id": "20d976a2",
   "metadata": {
    "papermill": {
     "duration": 0.015895,
     "end_time": "2024-08-17T16:19:04.619107",
     "exception": false,
     "start_time": "2024-08-17T16:19:04.603212",
     "status": "completed"
    },
    "tags": []
   },
   "source": [
    "### Multi-line Comments in R"
   ]
  },
  {
   "cell_type": "code",
   "execution_count": 2,
   "id": "19a8cc75",
   "metadata": {
    "execution": {
     "iopub.execute_input": "2024-08-17T16:19:04.684922Z",
     "iopub.status.busy": "2024-08-17T16:19:04.653115Z",
     "iopub.status.idle": "2024-08-17T16:19:04.695146Z",
     "shell.execute_reply": "2024-08-17T16:19:04.693473Z"
    },
    "papermill": {
     "duration": 0.062416,
     "end_time": "2024-08-17T16:19:04.697569",
     "exception": false,
     "start_time": "2024-08-17T16:19:04.635153",
     "status": "completed"
    },
    "tags": []
   },
   "outputs": [],
   "source": [
    "# Hey !!!\n",
    "# Hello !!!\n",
    "# Here !!!!!!"
   ]
  },
  {
   "cell_type": "markdown",
   "id": "e89076a4",
   "metadata": {
    "papermill": {
     "duration": 0.016303,
     "end_time": "2024-08-17T16:19:04.729927",
     "exception": false,
     "start_time": "2024-08-17T16:19:04.713624",
     "status": "completed"
    },
    "tags": []
   },
   "source": [
    "-----\n",
    "\n",
    "## Variables\n"
   ]
  },
  {
   "cell_type": "markdown",
   "id": "cc1b8b84",
   "metadata": {
    "papermill": {
     "duration": 0.015979,
     "end_time": "2024-08-17T16:19:04.761805",
     "exception": false,
     "start_time": "2024-08-17T16:19:04.745826",
     "status": "completed"
    },
    "tags": []
   },
   "source": [
    "### Variable Assignment and Output"
   ]
  },
  {
   "cell_type": "code",
   "execution_count": 3,
   "id": "87f0e933",
   "metadata": {
    "execution": {
     "iopub.execute_input": "2024-08-17T16:19:04.797133Z",
     "iopub.status.busy": "2024-08-17T16:19:04.795589Z",
     "iopub.status.idle": "2024-08-17T16:19:04.813115Z",
     "shell.execute_reply": "2024-08-17T16:19:04.811357Z"
    },
    "papermill": {
     "duration": 0.037772,
     "end_time": "2024-08-17T16:19:04.815443",
     "exception": false,
     "start_time": "2024-08-17T16:19:04.777671",
     "status": "completed"
    },
    "tags": []
   },
   "outputs": [],
   "source": [
    "simple_text <- \"Python or R ?\""
   ]
  },
  {
   "cell_type": "code",
   "execution_count": 4,
   "id": "5473bae7",
   "metadata": {
    "execution": {
     "iopub.execute_input": "2024-08-17T16:19:04.851068Z",
     "iopub.status.busy": "2024-08-17T16:19:04.849454Z",
     "iopub.status.idle": "2024-08-17T16:19:04.867608Z",
     "shell.execute_reply": "2024-08-17T16:19:04.865832Z"
    },
    "papermill": {
     "duration": 0.038593,
     "end_time": "2024-08-17T16:19:04.870036",
     "exception": false,
     "start_time": "2024-08-17T16:19:04.831443",
     "status": "completed"
    },
    "tags": []
   },
   "outputs": [
    {
     "data": {
      "text/html": [
       "'Python or R ?'"
      ],
      "text/latex": [
       "'Python or R ?'"
      ],
      "text/markdown": [
       "'Python or R ?'"
      ],
      "text/plain": [
       "[1] \"Python or R ?\""
      ]
     },
     "metadata": {},
     "output_type": "display_data"
    }
   ],
   "source": [
    "simple_text"
   ]
  },
  {
   "cell_type": "code",
   "execution_count": 5,
   "id": "7bd19476",
   "metadata": {
    "execution": {
     "iopub.execute_input": "2024-08-17T16:19:04.905811Z",
     "iopub.status.busy": "2024-08-17T16:19:04.904307Z",
     "iopub.status.idle": "2024-08-17T16:19:04.918984Z",
     "shell.execute_reply": "2024-08-17T16:19:04.917078Z"
    },
    "papermill": {
     "duration": 0.034848,
     "end_time": "2024-08-17T16:19:04.921175",
     "exception": false,
     "start_time": "2024-08-17T16:19:04.886327",
     "status": "completed"
    },
    "tags": []
   },
   "outputs": [
    {
     "name": "stdout",
     "output_type": "stream",
     "text": [
      "[1] \"Python or R ?\"\n"
     ]
    }
   ],
   "source": [
    "print(simple_text)"
   ]
  },
  {
   "cell_type": "code",
   "execution_count": 6,
   "id": "9642d7c3",
   "metadata": {
    "execution": {
     "iopub.execute_input": "2024-08-17T16:19:04.988836Z",
     "iopub.status.busy": "2024-08-17T16:19:04.987299Z",
     "iopub.status.idle": "2024-08-17T16:19:05.003306Z",
     "shell.execute_reply": "2024-08-17T16:19:05.001651Z"
    },
    "papermill": {
     "duration": 0.067886,
     "end_time": "2024-08-17T16:19:05.005529",
     "exception": false,
     "start_time": "2024-08-17T16:19:04.937643",
     "status": "completed"
    },
    "tags": []
   },
   "outputs": [
    {
     "data": {
      "text/html": [
       "13"
      ],
      "text/latex": [
       "13"
      ],
      "text/markdown": [
       "13"
      ],
      "text/plain": [
       "[1] 13"
      ]
     },
     "metadata": {},
     "output_type": "display_data"
    }
   ],
   "source": [
    "nchar(simple_text)"
   ]
  },
  {
   "cell_type": "code",
   "execution_count": 7,
   "id": "d79346a0",
   "metadata": {
    "execution": {
     "iopub.execute_input": "2024-08-17T16:19:05.042225Z",
     "iopub.status.busy": "2024-08-17T16:19:05.040533Z",
     "iopub.status.idle": "2024-08-17T16:19:05.060131Z",
     "shell.execute_reply": "2024-08-17T16:19:05.058172Z"
    },
    "papermill": {
     "duration": 0.040436,
     "end_time": "2024-08-17T16:19:05.062502",
     "exception": false,
     "start_time": "2024-08-17T16:19:05.022066",
     "status": "completed"
    },
    "tags": []
   },
   "outputs": [
    {
     "name": "stdout",
     "output_type": "stream",
     "text": [
      "[1] 13\n"
     ]
    }
   ],
   "source": [
    "print(nchar(simple_text))"
   ]
  },
  {
   "cell_type": "code",
   "execution_count": 8,
   "id": "a56c29b9",
   "metadata": {
    "execution": {
     "iopub.execute_input": "2024-08-17T16:19:05.099540Z",
     "iopub.status.busy": "2024-08-17T16:19:05.097931Z",
     "iopub.status.idle": "2024-08-17T16:19:05.111397Z",
     "shell.execute_reply": "2024-08-17T16:19:05.109750Z"
    },
    "papermill": {
     "duration": 0.034835,
     "end_time": "2024-08-17T16:19:05.113978",
     "exception": false,
     "start_time": "2024-08-17T16:19:05.079143",
     "status": "completed"
    },
    "tags": []
   },
   "outputs": [],
   "source": [
    "simple_text = \"Python or R or Rust?\""
   ]
  },
  {
   "cell_type": "code",
   "execution_count": 9,
   "id": "ab7bf796",
   "metadata": {
    "execution": {
     "iopub.execute_input": "2024-08-17T16:19:05.151368Z",
     "iopub.status.busy": "2024-08-17T16:19:05.149780Z",
     "iopub.status.idle": "2024-08-17T16:19:05.165719Z",
     "shell.execute_reply": "2024-08-17T16:19:05.164073Z"
    },
    "papermill": {
     "duration": 0.036825,
     "end_time": "2024-08-17T16:19:05.168171",
     "exception": false,
     "start_time": "2024-08-17T16:19:05.131346",
     "status": "completed"
    },
    "tags": []
   },
   "outputs": [
    {
     "data": {
      "text/html": [
       "'Python or R or Rust?'"
      ],
      "text/latex": [
       "'Python or R or Rust?'"
      ],
      "text/markdown": [
       "'Python or R or Rust?'"
      ],
      "text/plain": [
       "[1] \"Python or R or Rust?\""
      ]
     },
     "metadata": {},
     "output_type": "display_data"
    }
   ],
   "source": [
    "simple_text"
   ]
  },
  {
   "cell_type": "code",
   "execution_count": 10,
   "id": "9f99c13e",
   "metadata": {
    "execution": {
     "iopub.execute_input": "2024-08-17T16:19:05.205494Z",
     "iopub.status.busy": "2024-08-17T16:19:05.203938Z",
     "iopub.status.idle": "2024-08-17T16:19:05.223011Z",
     "shell.execute_reply": "2024-08-17T16:19:05.220831Z"
    },
    "papermill": {
     "duration": 0.04019,
     "end_time": "2024-08-17T16:19:05.225394",
     "exception": false,
     "start_time": "2024-08-17T16:19:05.185204",
     "status": "completed"
    },
    "tags": []
   },
   "outputs": [
    {
     "name": "stdout",
     "output_type": "stream",
     "text": [
      "[1] 20\n"
     ]
    },
    {
     "name": "stdout",
     "output_type": "stream",
     "text": [
      "[1] \"Python or R or Rust?\"\n"
     ]
    }
   ],
   "source": [
    "print(nchar(simple_text))\n",
    "print(simple_text)"
   ]
  },
  {
   "cell_type": "markdown",
   "id": "4e4e8b9d",
   "metadata": {
    "papermill": {
     "duration": 0.016952,
     "end_time": "2024-08-17T16:19:05.259098",
     "exception": false,
     "start_time": "2024-08-17T16:19:05.242146",
     "status": "completed"
    },
    "tags": []
   },
   "source": [
    "-----\n",
    "\n",
    "## Data Types\n"
   ]
  },
  {
   "cell_type": "markdown",
   "id": "8446d1b6",
   "metadata": {
    "papermill": {
     "duration": 0.016942,
     "end_time": "2024-08-17T16:19:05.293406",
     "exception": false,
     "start_time": "2024-08-17T16:19:05.276464",
     "status": "completed"
    },
    "tags": []
   },
   "source": [
    "### String Assignment and Structure"
   ]
  },
  {
   "cell_type": "code",
   "execution_count": 11,
   "id": "09d4ec7d",
   "metadata": {
    "execution": {
     "iopub.execute_input": "2024-08-17T16:19:05.330730Z",
     "iopub.status.busy": "2024-08-17T16:19:05.329152Z",
     "iopub.status.idle": "2024-08-17T16:19:05.349414Z",
     "shell.execute_reply": "2024-08-17T16:19:05.347437Z"
    },
    "papermill": {
     "duration": 0.045504,
     "end_time": "2024-08-17T16:19:05.355772",
     "exception": false,
     "start_time": "2024-08-17T16:19:05.310268",
     "status": "completed"
    },
    "tags": []
   },
   "outputs": [
    {
     "name": "stdout",
     "output_type": "stream",
     "text": [
      " chr \"Python\"\n"
     ]
    }
   ],
   "source": [
    "example_text <- \"Python\"\n",
    "\n",
    "str(example_text)"
   ]
  },
  {
   "cell_type": "markdown",
   "id": "5b70f8f4",
   "metadata": {
    "papermill": {
     "duration": 0.018261,
     "end_time": "2024-08-17T16:19:05.390939",
     "exception": false,
     "start_time": "2024-08-17T16:19:05.372678",
     "status": "completed"
    },
    "tags": []
   },
   "source": [
    "### Integer Assignment and Printing"
   ]
  },
  {
   "cell_type": "code",
   "execution_count": 12,
   "id": "1b98b9eb",
   "metadata": {
    "execution": {
     "iopub.execute_input": "2024-08-17T16:19:05.428479Z",
     "iopub.status.busy": "2024-08-17T16:19:05.426913Z",
     "iopub.status.idle": "2024-08-17T16:19:05.451156Z",
     "shell.execute_reply": "2024-08-17T16:19:05.449295Z"
    },
    "papermill": {
     "duration": 0.045459,
     "end_time": "2024-08-17T16:19:05.453378",
     "exception": false,
     "start_time": "2024-08-17T16:19:05.407919",
     "status": "completed"
    },
    "tags": []
   },
   "outputs": [
    {
     "name": "stdout",
     "output_type": "stream",
     "text": [
      " num 15\n",
      "NULL\n"
     ]
    },
    {
     "name": "stdout",
     "output_type": "stream",
     "text": [
      " num 10\n",
      "NULL\n"
     ]
    }
   ],
   "source": [
    "number_dogs <- 15\n",
    "number_cats <- 10\n",
    "\n",
    "print(str(number_dogs))\n",
    "print(str(number_cats))"
   ]
  },
  {
   "cell_type": "markdown",
   "id": "0b7721b4",
   "metadata": {
    "papermill": {
     "duration": 0.017158,
     "end_time": "2024-08-17T16:19:05.487816",
     "exception": false,
     "start_time": "2024-08-17T16:19:05.470658",
     "status": "completed"
    },
    "tags": []
   },
   "source": [
    "### Integer Structure"
   ]
  },
  {
   "cell_type": "code",
   "execution_count": 13,
   "id": "9f25ccb7",
   "metadata": {
    "execution": {
     "iopub.execute_input": "2024-08-17T16:19:05.525524Z",
     "iopub.status.busy": "2024-08-17T16:19:05.523980Z",
     "iopub.status.idle": "2024-08-17T16:19:05.542232Z",
     "shell.execute_reply": "2024-08-17T16:19:05.540429Z"
    },
    "papermill": {
     "duration": 0.03946,
     "end_time": "2024-08-17T16:19:05.544427",
     "exception": false,
     "start_time": "2024-08-17T16:19:05.504967",
     "status": "completed"
    },
    "tags": []
   },
   "outputs": [
    {
     "name": "stdout",
     "output_type": "stream",
     "text": [
      "[1] 15\n"
     ]
    },
    {
     "name": "stdout",
     "output_type": "stream",
     "text": [
      "[1] 10\n"
     ]
    }
   ],
   "source": [
    "print(number_dogs)\n",
    "print(number_cats)"
   ]
  },
  {
   "cell_type": "markdown",
   "id": "cf2b2588",
   "metadata": {
    "papermill": {
     "duration": 0.017407,
     "end_time": "2024-08-17T16:19:05.579027",
     "exception": false,
     "start_time": "2024-08-17T16:19:05.561620",
     "status": "completed"
    },
    "tags": []
   },
   "source": [
    "### Double Assignment and Structure"
   ]
  },
  {
   "cell_type": "code",
   "execution_count": 14,
   "id": "28f03a41",
   "metadata": {
    "execution": {
     "iopub.execute_input": "2024-08-17T16:19:05.616974Z",
     "iopub.status.busy": "2024-08-17T16:19:05.615448Z",
     "iopub.status.idle": "2024-08-17T16:19:05.637969Z",
     "shell.execute_reply": "2024-08-17T16:19:05.636134Z"
    },
    "papermill": {
     "duration": 0.043979,
     "end_time": "2024-08-17T16:19:05.640187",
     "exception": false,
     "start_time": "2024-08-17T16:19:05.596208",
     "status": "completed"
    },
    "tags": []
   },
   "outputs": [
    {
     "name": "stdout",
     "output_type": "stream",
     "text": [
      " num 1300\n",
      "NULL\n"
     ]
    },
    {
     "name": "stdout",
     "output_type": "stream",
     "text": [
      " num 113\n",
      "NULL\n"
     ]
    }
   ],
   "source": [
    "salary <- 1300.33\n",
    "bonus <- 112.67\n",
    "\n",
    "print(str(salary))\n",
    "print(str(bonus))"
   ]
  },
  {
   "cell_type": "markdown",
   "id": "a0af893c",
   "metadata": {
    "papermill": {
     "duration": 0.01761,
     "end_time": "2024-08-17T16:19:05.675135",
     "exception": false,
     "start_time": "2024-08-17T16:19:05.657525",
     "status": "completed"
    },
    "tags": []
   },
   "source": [
    "### Class of Double"
   ]
  },
  {
   "cell_type": "code",
   "execution_count": 15,
   "id": "ebf91a70",
   "metadata": {
    "execution": {
     "iopub.execute_input": "2024-08-17T16:19:05.717146Z",
     "iopub.status.busy": "2024-08-17T16:19:05.711966Z",
     "iopub.status.idle": "2024-08-17T16:19:05.735775Z",
     "shell.execute_reply": "2024-08-17T16:19:05.734114Z"
    },
    "papermill": {
     "duration": 0.045443,
     "end_time": "2024-08-17T16:19:05.737990",
     "exception": false,
     "start_time": "2024-08-17T16:19:05.692547",
     "status": "completed"
    },
    "tags": []
   },
   "outputs": [
    {
     "data": {
      "text/html": [
       "'numeric'"
      ],
      "text/latex": [
       "'numeric'"
      ],
      "text/markdown": [
       "'numeric'"
      ],
      "text/plain": [
       "[1] \"numeric\""
      ]
     },
     "metadata": {},
     "output_type": "display_data"
    },
    {
     "data": {
      "text/html": [
       "'numeric'"
      ],
      "text/latex": [
       "'numeric'"
      ],
      "text/markdown": [
       "'numeric'"
      ],
      "text/plain": [
       "[1] \"numeric\""
      ]
     },
     "metadata": {},
     "output_type": "display_data"
    }
   ],
   "source": [
    "class(salary)\n",
    "class(bonus)"
   ]
  },
  {
   "cell_type": "code",
   "execution_count": 16,
   "id": "e679c44f",
   "metadata": {
    "execution": {
     "iopub.execute_input": "2024-08-17T16:19:05.777008Z",
     "iopub.status.busy": "2024-08-17T16:19:05.775408Z",
     "iopub.status.idle": "2024-08-17T16:19:05.796586Z",
     "shell.execute_reply": "2024-08-17T16:19:05.794874Z"
    },
    "papermill": {
     "duration": 0.043121,
     "end_time": "2024-08-17T16:19:05.798820",
     "exception": false,
     "start_time": "2024-08-17T16:19:05.755699",
     "status": "completed"
    },
    "tags": []
   },
   "outputs": [
    {
     "data": {
      "text/html": [
       "112.67"
      ],
      "text/latex": [
       "112.67"
      ],
      "text/markdown": [
       "112.67"
      ],
      "text/plain": [
       "[1] 112.67"
      ]
     },
     "metadata": {},
     "output_type": "display_data"
    },
    {
     "data": {
      "text/html": [
       "1300.33"
      ],
      "text/latex": [
       "1300.33"
      ],
      "text/markdown": [
       "1300.33"
      ],
      "text/plain": [
       "[1] 1300.33"
      ]
     },
     "metadata": {},
     "output_type": "display_data"
    }
   ],
   "source": [
    "bonus\n",
    "salary"
   ]
  },
  {
   "cell_type": "markdown",
   "id": "94c42a7a",
   "metadata": {
    "papermill": {
     "duration": 0.017932,
     "end_time": "2024-08-17T16:19:05.834830",
     "exception": false,
     "start_time": "2024-08-17T16:19:05.816898",
     "status": "completed"
    },
    "tags": []
   },
   "source": [
    "### Convert Double to Integer"
   ]
  },
  {
   "cell_type": "code",
   "execution_count": 17,
   "id": "bf940bc9",
   "metadata": {
    "execution": {
     "iopub.execute_input": "2024-08-17T16:19:05.874309Z",
     "iopub.status.busy": "2024-08-17T16:19:05.872763Z",
     "iopub.status.idle": "2024-08-17T16:19:05.890476Z",
     "shell.execute_reply": "2024-08-17T16:19:05.888782Z"
    },
    "papermill": {
     "duration": 0.039998,
     "end_time": "2024-08-17T16:19:05.892783",
     "exception": false,
     "start_time": "2024-08-17T16:19:05.852785",
     "status": "completed"
    },
    "tags": []
   },
   "outputs": [
    {
     "data": {
      "text/html": [
       "112"
      ],
      "text/latex": [
       "112"
      ],
      "text/markdown": [
       "112"
      ],
      "text/plain": [
       "[1] 112"
      ]
     },
     "metadata": {},
     "output_type": "display_data"
    }
   ],
   "source": [
    "to_int <- as.integer(bonus)\n",
    "to_int"
   ]
  },
  {
   "cell_type": "markdown",
   "id": "1395d44f",
   "metadata": {
    "papermill": {
     "duration": 0.018122,
     "end_time": "2024-08-17T16:19:05.929049",
     "exception": false,
     "start_time": "2024-08-17T16:19:05.910927",
     "status": "completed"
    },
    "tags": []
   },
   "source": [
    "### Rounding Numbers"
   ]
  },
  {
   "cell_type": "code",
   "execution_count": 18,
   "id": "f41d55e1",
   "metadata": {
    "execution": {
     "iopub.execute_input": "2024-08-17T16:19:05.969253Z",
     "iopub.status.busy": "2024-08-17T16:19:05.967696Z",
     "iopub.status.idle": "2024-08-17T16:19:05.991608Z",
     "shell.execute_reply": "2024-08-17T16:19:05.989855Z"
    },
    "papermill": {
     "duration": 0.046508,
     "end_time": "2024-08-17T16:19:05.993982",
     "exception": false,
     "start_time": "2024-08-17T16:19:05.947474",
     "status": "completed"
    },
    "tags": []
   },
   "outputs": [
    {
     "data": {
      "text/html": [
       "113"
      ],
      "text/latex": [
       "113"
      ],
      "text/markdown": [
       "113"
      ],
      "text/plain": [
       "[1] 113"
      ]
     },
     "metadata": {},
     "output_type": "display_data"
    },
    {
     "data": {
      "text/html": [
       "1300"
      ],
      "text/latex": [
       "1300"
      ],
      "text/markdown": [
       "1300"
      ],
      "text/plain": [
       "[1] 1300"
      ]
     },
     "metadata": {},
     "output_type": "display_data"
    }
   ],
   "source": [
    "round(bonus)\n",
    "round(salary)"
   ]
  },
  {
   "cell_type": "markdown",
   "id": "a760ab62",
   "metadata": {
    "papermill": {
     "duration": 0.019186,
     "end_time": "2024-08-17T16:19:06.032973",
     "exception": false,
     "start_time": "2024-08-17T16:19:06.013787",
     "status": "completed"
    },
    "tags": []
   },
   "source": [
    "### Convert Double to Character"
   ]
  },
  {
   "cell_type": "code",
   "execution_count": 19,
   "id": "e6f4f1fd",
   "metadata": {
    "execution": {
     "iopub.execute_input": "2024-08-17T16:19:06.074365Z",
     "iopub.status.busy": "2024-08-17T16:19:06.072771Z",
     "iopub.status.idle": "2024-08-17T16:19:06.090672Z",
     "shell.execute_reply": "2024-08-17T16:19:06.088964Z"
    },
    "papermill": {
     "duration": 0.040854,
     "end_time": "2024-08-17T16:19:06.093035",
     "exception": false,
     "start_time": "2024-08-17T16:19:06.052181",
     "status": "completed"
    },
    "tags": []
   },
   "outputs": [
    {
     "data": {
      "text/html": [
       "'1300.33'"
      ],
      "text/latex": [
       "'1300.33'"
      ],
      "text/markdown": [
       "'1300.33'"
      ],
      "text/plain": [
       "[1] \"1300.33\""
      ]
     },
     "metadata": {},
     "output_type": "display_data"
    }
   ],
   "source": [
    "to_char <- as.character(salary)\n",
    "to_char"
   ]
  },
  {
   "cell_type": "code",
   "execution_count": 20,
   "id": "b30ffbc8",
   "metadata": {
    "execution": {
     "iopub.execute_input": "2024-08-17T16:19:06.133609Z",
     "iopub.status.busy": "2024-08-17T16:19:06.132067Z",
     "iopub.status.idle": "2024-08-17T16:19:06.149963Z",
     "shell.execute_reply": "2024-08-17T16:19:06.148278Z"
    },
    "papermill": {
     "duration": 0.040788,
     "end_time": "2024-08-17T16:19:06.152344",
     "exception": false,
     "start_time": "2024-08-17T16:19:06.111556",
     "status": "completed"
    },
    "tags": []
   },
   "outputs": [
    {
     "data": {
      "text/html": [
       "'112.67'"
      ],
      "text/latex": [
       "'112.67'"
      ],
      "text/markdown": [
       "'112.67'"
      ],
      "text/plain": [
       "[1] \"112.67\""
      ]
     },
     "metadata": {},
     "output_type": "display_data"
    }
   ],
   "source": [
    "to_char <- as.character(bonus)\n",
    "to_char"
   ]
  },
  {
   "cell_type": "code",
   "execution_count": 21,
   "id": "36d33eab",
   "metadata": {
    "execution": {
     "iopub.execute_input": "2024-08-17T16:19:06.193804Z",
     "iopub.status.busy": "2024-08-17T16:19:06.192173Z",
     "iopub.status.idle": "2024-08-17T16:19:06.210572Z",
     "shell.execute_reply": "2024-08-17T16:19:06.208846Z"
    },
    "papermill": {
     "duration": 0.041842,
     "end_time": "2024-08-17T16:19:06.212894",
     "exception": false,
     "start_time": "2024-08-17T16:19:06.171052",
     "status": "completed"
    },
    "tags": []
   },
   "outputs": [
    {
     "data": {
      "text/html": [
       "'1300.33'"
      ],
      "text/latex": [
       "'1300.33'"
      ],
      "text/markdown": [
       "'1300.33'"
      ],
      "text/plain": [
       "[1] \"1300.33\""
      ]
     },
     "metadata": {},
     "output_type": "display_data"
    }
   ],
   "source": [
    "to_char <- as.character(salary)\n",
    "to_char"
   ]
  },
  {
   "cell_type": "markdown",
   "id": "c749ffcd",
   "metadata": {
    "papermill": {
     "duration": 0.018875,
     "end_time": "2024-08-17T16:19:06.250572",
     "exception": false,
     "start_time": "2024-08-17T16:19:06.231697",
     "status": "completed"
    },
    "tags": []
   },
   "source": [
    "### Print Double and Character"
   ]
  },
  {
   "cell_type": "code",
   "execution_count": 22,
   "id": "ee090600",
   "metadata": {
    "execution": {
     "iopub.execute_input": "2024-08-17T16:19:06.295901Z",
     "iopub.status.busy": "2024-08-17T16:19:06.290817Z",
     "iopub.status.idle": "2024-08-17T16:19:06.312575Z",
     "shell.execute_reply": "2024-08-17T16:19:06.310704Z"
    },
    "papermill": {
     "duration": 0.045415,
     "end_time": "2024-08-17T16:19:06.314800",
     "exception": false,
     "start_time": "2024-08-17T16:19:06.269385",
     "status": "completed"
    },
    "tags": []
   },
   "outputs": [
    {
     "name": "stdout",
     "output_type": "stream",
     "text": [
      "[1] 1300.33\n"
     ]
    },
    {
     "name": "stdout",
     "output_type": "stream",
     "text": [
      "[1] \"1300.33\"\n"
     ]
    }
   ],
   "source": [
    "print(salary)\n",
    "print(to_char)"
   ]
  },
  {
   "cell_type": "markdown",
   "id": "d544e78d",
   "metadata": {
    "papermill": {
     "duration": 0.019056,
     "end_time": "2024-08-17T16:19:06.352713",
     "exception": false,
     "start_time": "2024-08-17T16:19:06.333657",
     "status": "completed"
    },
    "tags": []
   },
   "source": [
    "## Logical, arithmetic and relational operators\n"
   ]
  },
  {
   "cell_type": "markdown",
   "id": "b9b67652",
   "metadata": {
    "papermill": {
     "duration": 0.018906,
     "end_time": "2024-08-17T16:19:06.390449",
     "exception": false,
     "start_time": "2024-08-17T16:19:06.371543",
     "status": "completed"
    },
    "tags": []
   },
   "source": [
    "### Multiplication"
   ]
  },
  {
   "cell_type": "code",
   "execution_count": 23,
   "id": "ede967ae",
   "metadata": {
    "execution": {
     "iopub.execute_input": "2024-08-17T16:19:06.433082Z",
     "iopub.status.busy": "2024-08-17T16:19:06.431530Z",
     "iopub.status.idle": "2024-08-17T16:19:06.450512Z",
     "shell.execute_reply": "2024-08-17T16:19:06.448606Z"
    },
    "papermill": {
     "duration": 0.042207,
     "end_time": "2024-08-17T16:19:06.452759",
     "exception": false,
     "start_time": "2024-08-17T16:19:06.410552",
     "status": "completed"
    },
    "tags": []
   },
   "outputs": [
    {
     "name": "stdout",
     "output_type": "stream",
     "text": [
      "[1] 30\n"
     ]
    }
   ],
   "source": [
    "a <- 3\n",
    "b <- 10\n",
    "\n",
    "print(a * b)"
   ]
  },
  {
   "cell_type": "markdown",
   "id": "7357ee0d",
   "metadata": {
    "papermill": {
     "duration": 0.019385,
     "end_time": "2024-08-17T16:19:06.491191",
     "exception": false,
     "start_time": "2024-08-17T16:19:06.471806",
     "status": "completed"
    },
    "tags": []
   },
   "source": [
    "### Division"
   ]
  },
  {
   "cell_type": "code",
   "execution_count": 24,
   "id": "40633676",
   "metadata": {
    "execution": {
     "iopub.execute_input": "2024-08-17T16:19:06.532774Z",
     "iopub.status.busy": "2024-08-17T16:19:06.531244Z",
     "iopub.status.idle": "2024-08-17T16:19:06.550378Z",
     "shell.execute_reply": "2024-08-17T16:19:06.548493Z"
    },
    "papermill": {
     "duration": 0.042448,
     "end_time": "2024-08-17T16:19:06.552672",
     "exception": false,
     "start_time": "2024-08-17T16:19:06.510224",
     "status": "completed"
    },
    "tags": []
   },
   "outputs": [
    {
     "name": "stdout",
     "output_type": "stream",
     "text": [
      "[1] 0.3\n"
     ]
    }
   ],
   "source": [
    "a <- 3\n",
    "b <- 10\n",
    "\n",
    "print(a / b)"
   ]
  },
  {
   "cell_type": "markdown",
   "id": "b4179bf1",
   "metadata": {
    "papermill": {
     "duration": 0.019317,
     "end_time": "2024-08-17T16:19:06.591199",
     "exception": false,
     "start_time": "2024-08-17T16:19:06.571882",
     "status": "completed"
    },
    "tags": []
   },
   "source": [
    "### Addition"
   ]
  },
  {
   "cell_type": "code",
   "execution_count": 25,
   "id": "f5bb57ec",
   "metadata": {
    "execution": {
     "iopub.execute_input": "2024-08-17T16:19:06.632560Z",
     "iopub.status.busy": "2024-08-17T16:19:06.631042Z",
     "iopub.status.idle": "2024-08-17T16:19:06.677260Z",
     "shell.execute_reply": "2024-08-17T16:19:06.675356Z"
    },
    "papermill": {
     "duration": 0.069341,
     "end_time": "2024-08-17T16:19:06.679510",
     "exception": false,
     "start_time": "2024-08-17T16:19:06.610169",
     "status": "completed"
    },
    "tags": []
   },
   "outputs": [
    {
     "name": "stdout",
     "output_type": "stream",
     "text": [
      "[1] 13\n"
     ]
    }
   ],
   "source": [
    "a <- 3\n",
    "b <- 10\n",
    "\n",
    "print(a + b)"
   ]
  },
  {
   "cell_type": "markdown",
   "id": "2d575350",
   "metadata": {
    "papermill": {
     "duration": 0.019257,
     "end_time": "2024-08-17T16:19:06.717924",
     "exception": false,
     "start_time": "2024-08-17T16:19:06.698667",
     "status": "completed"
    },
    "tags": []
   },
   "source": [
    "### Subtraction"
   ]
  },
  {
   "cell_type": "code",
   "execution_count": 26,
   "id": "fc28f0b2",
   "metadata": {
    "execution": {
     "iopub.execute_input": "2024-08-17T16:19:06.760051Z",
     "iopub.status.busy": "2024-08-17T16:19:06.758495Z",
     "iopub.status.idle": "2024-08-17T16:19:06.777893Z",
     "shell.execute_reply": "2024-08-17T16:19:06.775892Z"
    },
    "papermill": {
     "duration": 0.043016,
     "end_time": "2024-08-17T16:19:06.780216",
     "exception": false,
     "start_time": "2024-08-17T16:19:06.737200",
     "status": "completed"
    },
    "tags": []
   },
   "outputs": [
    {
     "name": "stdout",
     "output_type": "stream",
     "text": [
      "[1] -7\n"
     ]
    }
   ],
   "source": [
    "a <- 3\n",
    "b <- 10\n",
    "\n",
    "print(a - b)"
   ]
  },
  {
   "cell_type": "markdown",
   "id": "e27b49ce",
   "metadata": {
    "papermill": {
     "duration": 0.019554,
     "end_time": "2024-08-17T16:19:06.819107",
     "exception": false,
     "start_time": "2024-08-17T16:19:06.799553",
     "status": "completed"
    },
    "tags": []
   },
   "source": [
    "### Equality Check"
   ]
  },
  {
   "cell_type": "code",
   "execution_count": 27,
   "id": "0180b470",
   "metadata": {
    "execution": {
     "iopub.execute_input": "2024-08-17T16:19:06.861106Z",
     "iopub.status.busy": "2024-08-17T16:19:06.859471Z",
     "iopub.status.idle": "2024-08-17T16:19:06.876490Z",
     "shell.execute_reply": "2024-08-17T16:19:06.874606Z"
    },
    "papermill": {
     "duration": 0.040604,
     "end_time": "2024-08-17T16:19:06.878762",
     "exception": false,
     "start_time": "2024-08-17T16:19:06.838158",
     "status": "completed"
    },
    "tags": []
   },
   "outputs": [
    {
     "data": {
      "text/html": [
       "FALSE"
      ],
      "text/latex": [
       "FALSE"
      ],
      "text/markdown": [
       "FALSE"
      ],
      "text/plain": [
       "[1] FALSE"
      ]
     },
     "metadata": {},
     "output_type": "display_data"
    }
   ],
   "source": [
    "\"a\" == \"b\""
   ]
  },
  {
   "cell_type": "markdown",
   "id": "05d57dad",
   "metadata": {
    "papermill": {
     "duration": 0.019258,
     "end_time": "2024-08-17T16:19:06.917397",
     "exception": false,
     "start_time": "2024-08-17T16:19:06.898139",
     "status": "completed"
    },
    "tags": []
   },
   "source": [
    "### Equality Check"
   ]
  },
  {
   "cell_type": "code",
   "execution_count": 28,
   "id": "41239b1b",
   "metadata": {
    "execution": {
     "iopub.execute_input": "2024-08-17T16:19:06.959596Z",
     "iopub.status.busy": "2024-08-17T16:19:06.958067Z",
     "iopub.status.idle": "2024-08-17T16:19:06.974276Z",
     "shell.execute_reply": "2024-08-17T16:19:06.972557Z"
    },
    "papermill": {
     "duration": 0.039914,
     "end_time": "2024-08-17T16:19:06.976569",
     "exception": false,
     "start_time": "2024-08-17T16:19:06.936655",
     "status": "completed"
    },
    "tags": []
   },
   "outputs": [
    {
     "data": {
      "text/html": [
       "TRUE"
      ],
      "text/latex": [
       "TRUE"
      ],
      "text/markdown": [
       "TRUE"
      ],
      "text/plain": [
       "[1] TRUE"
      ]
     },
     "metadata": {},
     "output_type": "display_data"
    }
   ],
   "source": [
    "1 == 1"
   ]
  },
  {
   "cell_type": "markdown",
   "id": "d892c512",
   "metadata": {
    "papermill": {
     "duration": 0.019734,
     "end_time": "2024-08-17T16:19:07.015967",
     "exception": false,
     "start_time": "2024-08-17T16:19:06.996233",
     "status": "completed"
    },
    "tags": []
   },
   "source": [
    "### Logical Class"
   ]
  },
  {
   "cell_type": "code",
   "execution_count": 29,
   "id": "a65a4169",
   "metadata": {
    "execution": {
     "iopub.execute_input": "2024-08-17T16:19:07.059181Z",
     "iopub.status.busy": "2024-08-17T16:19:07.057636Z",
     "iopub.status.idle": "2024-08-17T16:19:07.079616Z",
     "shell.execute_reply": "2024-08-17T16:19:07.077954Z"
    },
    "papermill": {
     "duration": 0.04655,
     "end_time": "2024-08-17T16:19:07.081859",
     "exception": false,
     "start_time": "2024-08-17T16:19:07.035309",
     "status": "completed"
    },
    "tags": []
   },
   "outputs": [
    {
     "data": {
      "text/html": [
       "'logical'"
      ],
      "text/latex": [
       "'logical'"
      ],
      "text/markdown": [
       "'logical'"
      ],
      "text/plain": [
       "[1] \"logical\""
      ]
     },
     "metadata": {},
     "output_type": "display_data"
    }
   ],
   "source": [
    "logic_ <- TRUE\n",
    "\n",
    "class(logic_)"
   ]
  },
  {
   "cell_type": "markdown",
   "id": "b7b8d570",
   "metadata": {
    "papermill": {
     "duration": 0.019955,
     "end_time": "2024-08-17T16:19:07.121636",
     "exception": false,
     "start_time": "2024-08-17T16:19:07.101681",
     "status": "completed"
    },
    "tags": []
   },
   "source": [
    "### Multiplication with Logical False"
   ]
  },
  {
   "cell_type": "code",
   "execution_count": 30,
   "id": "6ee967e0",
   "metadata": {
    "execution": {
     "iopub.execute_input": "2024-08-17T16:19:07.169189Z",
     "iopub.status.busy": "2024-08-17T16:19:07.167610Z",
     "iopub.status.idle": "2024-08-17T16:19:07.192796Z",
     "shell.execute_reply": "2024-08-17T16:19:07.191109Z"
    },
    "papermill": {
     "duration": 0.053656,
     "end_time": "2024-08-17T16:19:07.195066",
     "exception": false,
     "start_time": "2024-08-17T16:19:07.141410",
     "status": "completed"
    },
    "tags": []
   },
   "outputs": [
    {
     "data": {
      "text/html": [
       "0"
      ],
      "text/latex": [
       "0"
      ],
      "text/markdown": [
       "0"
      ],
      "text/plain": [
       "[1] 0"
      ]
     },
     "metadata": {},
     "output_type": "display_data"
    },
    {
     "data": {
      "text/html": [
       "0"
      ],
      "text/latex": [
       "0"
      ],
      "text/markdown": [
       "0"
      ],
      "text/plain": [
       "[1] 0"
      ]
     },
     "metadata": {},
     "output_type": "display_data"
    },
    {
     "data": {
      "text/html": [
       "0"
      ],
      "text/latex": [
       "0"
      ],
      "text/markdown": [
       "0"
      ],
      "text/plain": [
       "[1] 0"
      ]
     },
     "metadata": {},
     "output_type": "display_data"
    }
   ],
   "source": [
    "FALSE * 2\n",
    "FALSE * 100\n",
    "FALSE * 300"
   ]
  },
  {
   "cell_type": "markdown",
   "id": "706a964d",
   "metadata": {
    "papermill": {
     "duration": 0.020687,
     "end_time": "2024-08-17T16:19:07.236519",
     "exception": false,
     "start_time": "2024-08-17T16:19:07.215832",
     "status": "completed"
    },
    "tags": []
   },
   "source": [
    "### Multiplication with Logical True"
   ]
  },
  {
   "cell_type": "code",
   "execution_count": 31,
   "id": "fe820a06",
   "metadata": {
    "execution": {
     "iopub.execute_input": "2024-08-17T16:19:07.289844Z",
     "iopub.status.busy": "2024-08-17T16:19:07.287337Z",
     "iopub.status.idle": "2024-08-17T16:19:07.325685Z",
     "shell.execute_reply": "2024-08-17T16:19:07.323139Z"
    },
    "papermill": {
     "duration": 0.071461,
     "end_time": "2024-08-17T16:19:07.328831",
     "exception": false,
     "start_time": "2024-08-17T16:19:07.257370",
     "status": "completed"
    },
    "tags": []
   },
   "outputs": [
    {
     "data": {
      "text/html": [
       "2"
      ],
      "text/latex": [
       "2"
      ],
      "text/markdown": [
       "2"
      ],
      "text/plain": [
       "[1] 2"
      ]
     },
     "metadata": {},
     "output_type": "display_data"
    },
    {
     "data": {
      "text/html": [
       "100"
      ],
      "text/latex": [
       "100"
      ],
      "text/markdown": [
       "100"
      ],
      "text/plain": [
       "[1] 100"
      ]
     },
     "metadata": {},
     "output_type": "display_data"
    },
    {
     "data": {
      "text/html": [
       "300"
      ],
      "text/latex": [
       "300"
      ],
      "text/markdown": [
       "300"
      ],
      "text/plain": [
       "[1] 300"
      ]
     },
     "metadata": {},
     "output_type": "display_data"
    }
   ],
   "source": [
    "TRUE * 2\n",
    "TRUE * 100\n",
    "TRUE * 300"
   ]
  },
  {
   "cell_type": "markdown",
   "id": "b80a757d",
   "metadata": {
    "papermill": {
     "duration": 0.020744,
     "end_time": "2024-08-17T16:19:07.374461",
     "exception": false,
     "start_time": "2024-08-17T16:19:07.353717",
     "status": "completed"
    },
    "tags": []
   },
   "source": [
    "### Greater Than Check"
   ]
  },
  {
   "cell_type": "code",
   "execution_count": 32,
   "id": "9006e3f7",
   "metadata": {
    "execution": {
     "iopub.execute_input": "2024-08-17T16:19:07.422684Z",
     "iopub.status.busy": "2024-08-17T16:19:07.420230Z",
     "iopub.status.idle": "2024-08-17T16:19:07.445837Z",
     "shell.execute_reply": "2024-08-17T16:19:07.443495Z"
    },
    "papermill": {
     "duration": 0.053416,
     "end_time": "2024-08-17T16:19:07.448770",
     "exception": false,
     "start_time": "2024-08-17T16:19:07.395354",
     "status": "completed"
    },
    "tags": []
   },
   "outputs": [
    {
     "data": {
      "text/html": [
       "FALSE"
      ],
      "text/latex": [
       "FALSE"
      ],
      "text/markdown": [
       "FALSE"
      ],
      "text/plain": [
       "[1] FALSE"
      ]
     },
     "metadata": {},
     "output_type": "display_data"
    }
   ],
   "source": [
    "2 > 5"
   ]
  },
  {
   "cell_type": "markdown",
   "id": "d2f4b56d",
   "metadata": {
    "papermill": {
     "duration": 0.021231,
     "end_time": "2024-08-17T16:19:07.496264",
     "exception": false,
     "start_time": "2024-08-17T16:19:07.475033",
     "status": "completed"
    },
    "tags": []
   },
   "source": [
    "### Equality Check"
   ]
  },
  {
   "cell_type": "code",
   "execution_count": 33,
   "id": "c7d64435",
   "metadata": {
    "execution": {
     "iopub.execute_input": "2024-08-17T16:19:07.541089Z",
     "iopub.status.busy": "2024-08-17T16:19:07.539478Z",
     "iopub.status.idle": "2024-08-17T16:19:07.556278Z",
     "shell.execute_reply": "2024-08-17T16:19:07.554330Z"
    },
    "papermill": {
     "duration": 0.042015,
     "end_time": "2024-08-17T16:19:07.558881",
     "exception": false,
     "start_time": "2024-08-17T16:19:07.516866",
     "status": "completed"
    },
    "tags": []
   },
   "outputs": [
    {
     "data": {
      "text/html": [
       "FALSE"
      ],
      "text/latex": [
       "FALSE"
      ],
      "text/markdown": [
       "FALSE"
      ],
      "text/plain": [
       "[1] FALSE"
      ]
     },
     "metadata": {},
     "output_type": "display_data"
    }
   ],
   "source": [
    "2 == 5"
   ]
  },
  {
   "cell_type": "markdown",
   "id": "aba7763f",
   "metadata": {
    "papermill": {
     "duration": 0.021487,
     "end_time": "2024-08-17T16:19:07.611563",
     "exception": false,
     "start_time": "2024-08-17T16:19:07.590076",
     "status": "completed"
    },
    "tags": []
   },
   "source": [
    "### Power Calculation"
   ]
  },
  {
   "cell_type": "code",
   "execution_count": 34,
   "id": "b442c33b",
   "metadata": {
    "execution": {
     "iopub.execute_input": "2024-08-17T16:19:07.663390Z",
     "iopub.status.busy": "2024-08-17T16:19:07.661769Z",
     "iopub.status.idle": "2024-08-17T16:19:07.680008Z",
     "shell.execute_reply": "2024-08-17T16:19:07.677698Z"
    },
    "papermill": {
     "duration": 0.045813,
     "end_time": "2024-08-17T16:19:07.682959",
     "exception": false,
     "start_time": "2024-08-17T16:19:07.637146",
     "status": "completed"
    },
    "tags": []
   },
   "outputs": [
    {
     "data": {
      "text/html": [
       "25"
      ],
      "text/latex": [
       "25"
      ],
      "text/markdown": [
       "25"
      ],
      "text/plain": [
       "[1] 25"
      ]
     },
     "metadata": {},
     "output_type": "display_data"
    }
   ],
   "source": [
    "5^2"
   ]
  },
  {
   "cell_type": "markdown",
   "id": "cf5d851b",
   "metadata": {
    "papermill": {
     "duration": 0.023772,
     "end_time": "2024-08-17T16:19:07.727791",
     "exception": false,
     "start_time": "2024-08-17T16:19:07.704019",
     "status": "completed"
    },
    "tags": []
   },
   "source": [
    "### R_help !!!!"
   ]
  },
  {
   "cell_type": "code",
   "execution_count": 35,
   "id": "60cd189e",
   "metadata": {
    "execution": {
     "iopub.execute_input": "2024-08-17T16:19:07.784501Z",
     "iopub.status.busy": "2024-08-17T16:19:07.782050Z",
     "iopub.status.idle": "2024-08-17T16:19:07.989370Z",
     "shell.execute_reply": "2024-08-17T16:19:07.986734Z"
    },
    "papermill": {
     "duration": 0.237053,
     "end_time": "2024-08-17T16:19:07.992562",
     "exception": false,
     "start_time": "2024-08-17T16:19:07.755509",
     "status": "completed"
    },
    "tags": []
   },
   "outputs": [],
   "source": [
    "help(numeric)"
   ]
  },
  {
   "cell_type": "code",
   "execution_count": 36,
   "id": "42fad804",
   "metadata": {
    "execution": {
     "iopub.execute_input": "2024-08-17T16:19:08.040773Z",
     "iopub.status.busy": "2024-08-17T16:19:08.038344Z",
     "iopub.status.idle": "2024-08-17T16:19:08.159340Z",
     "shell.execute_reply": "2024-08-17T16:19:08.156736Z"
    },
    "papermill": {
     "duration": 0.148218,
     "end_time": "2024-08-17T16:19:08.162483",
     "exception": false,
     "start_time": "2024-08-17T16:19:08.014265",
     "status": "completed"
    },
    "tags": []
   },
   "outputs": [],
   "source": [
    "help(character)"
   ]
  },
  {
   "cell_type": "markdown",
   "id": "f3222caa",
   "metadata": {
    "papermill": {
     "duration": 0.02133,
     "end_time": "2024-08-17T16:19:08.205171",
     "exception": false,
     "start_time": "2024-08-17T16:19:08.183841",
     "status": "completed"
    },
    "tags": []
   },
   "source": [
    "### Vectors, matrices, dataframe\n"
   ]
  },
  {
   "cell_type": "markdown",
   "id": "0d86ee39",
   "metadata": {
    "papermill": {
     "duration": 0.02171,
     "end_time": "2024-08-17T16:19:08.248359",
     "exception": false,
     "start_time": "2024-08-17T16:19:08.226649",
     "status": "completed"
    },
    "tags": []
   },
   "source": [
    "### Create and Display Vector"
   ]
  },
  {
   "cell_type": "code",
   "execution_count": 37,
   "id": "58d1ec1e",
   "metadata": {
    "execution": {
     "iopub.execute_input": "2024-08-17T16:19:08.296538Z",
     "iopub.status.busy": "2024-08-17T16:19:08.294026Z",
     "iopub.status.idle": "2024-08-17T16:19:08.319152Z",
     "shell.execute_reply": "2024-08-17T16:19:08.317420Z"
    },
    "papermill": {
     "duration": 0.052004,
     "end_time": "2024-08-17T16:19:08.321703",
     "exception": false,
     "start_time": "2024-08-17T16:19:08.269699",
     "status": "completed"
    },
    "tags": []
   },
   "outputs": [
    {
     "data": {
      "text/html": [
       "<style>\n",
       ".list-inline {list-style: none; margin:0; padding: 0}\n",
       ".list-inline>li {display: inline-block}\n",
       ".list-inline>li:not(:last-child)::after {content: \"\\00b7\"; padding: 0 .5ex}\n",
       "</style>\n",
       "<ol class=list-inline><li>1</li><li>2</li><li>3</li><li>4</li><li>5</li><li>6</li><li>7</li><li>8</li><li>9</li><li>10</li></ol>\n"
      ],
      "text/latex": [
       "\\begin{enumerate*}\n",
       "\\item 1\n",
       "\\item 2\n",
       "\\item 3\n",
       "\\item 4\n",
       "\\item 5\n",
       "\\item 6\n",
       "\\item 7\n",
       "\\item 8\n",
       "\\item 9\n",
       "\\item 10\n",
       "\\end{enumerate*}\n"
      ],
      "text/markdown": [
       "1. 1\n",
       "2. 2\n",
       "3. 3\n",
       "4. 4\n",
       "5. 5\n",
       "6. 6\n",
       "7. 7\n",
       "8. 8\n",
       "9. 9\n",
       "10. 10\n",
       "\n",
       "\n"
      ],
      "text/plain": [
       " [1]  1  2  3  4  5  6  7  8  9 10"
      ]
     },
     "metadata": {},
     "output_type": "display_data"
    }
   ],
   "source": [
    "group_numbers <- c(1,2,3,4,5,6,7,8,9,10)\n",
    "group_numbers"
   ]
  },
  {
   "cell_type": "markdown",
   "id": "f1a87c13",
   "metadata": {
    "papermill": {
     "duration": 0.021397,
     "end_time": "2024-08-17T16:19:08.368992",
     "exception": false,
     "start_time": "2024-08-17T16:19:08.347595",
     "status": "completed"
    },
    "tags": []
   },
   "source": [
    "### Vector Multiplication"
   ]
  },
  {
   "cell_type": "code",
   "execution_count": 38,
   "id": "226e7648",
   "metadata": {
    "execution": {
     "iopub.execute_input": "2024-08-17T16:19:08.417358Z",
     "iopub.status.busy": "2024-08-17T16:19:08.415728Z",
     "iopub.status.idle": "2024-08-17T16:19:08.432165Z",
     "shell.execute_reply": "2024-08-17T16:19:08.430375Z"
    },
    "papermill": {
     "duration": 0.044589,
     "end_time": "2024-08-17T16:19:08.435026",
     "exception": false,
     "start_time": "2024-08-17T16:19:08.390437",
     "status": "completed"
    },
    "tags": []
   },
   "outputs": [
    {
     "data": {
      "text/html": [
       "<style>\n",
       ".list-inline {list-style: none; margin:0; padding: 0}\n",
       ".list-inline>li {display: inline-block}\n",
       ".list-inline>li:not(:last-child)::after {content: \"\\00b7\"; padding: 0 .5ex}\n",
       "</style>\n",
       "<ol class=list-inline><li>5</li><li>10</li><li>15</li><li>20</li><li>25</li><li>30</li><li>35</li><li>40</li><li>45</li><li>50</li></ol>\n"
      ],
      "text/latex": [
       "\\begin{enumerate*}\n",
       "\\item 5\n",
       "\\item 10\n",
       "\\item 15\n",
       "\\item 20\n",
       "\\item 25\n",
       "\\item 30\n",
       "\\item 35\n",
       "\\item 40\n",
       "\\item 45\n",
       "\\item 50\n",
       "\\end{enumerate*}\n"
      ],
      "text/markdown": [
       "1. 5\n",
       "2. 10\n",
       "3. 15\n",
       "4. 20\n",
       "5. 25\n",
       "6. 30\n",
       "7. 35\n",
       "8. 40\n",
       "9. 45\n",
       "10. 50\n",
       "\n",
       "\n"
      ],
      "text/plain": [
       " [1]  5 10 15 20 25 30 35 40 45 50"
      ]
     },
     "metadata": {},
     "output_type": "display_data"
    }
   ],
   "source": [
    "group_numbers * 5"
   ]
  },
  {
   "cell_type": "markdown",
   "id": "8c8a2cd3",
   "metadata": {
    "papermill": {
     "duration": 0.023905,
     "end_time": "2024-08-17T16:19:08.480662",
     "exception": false,
     "start_time": "2024-08-17T16:19:08.456757",
     "status": "completed"
    },
    "tags": []
   },
   "source": [
    "### Vector Power"
   ]
  },
  {
   "cell_type": "code",
   "execution_count": 39,
   "id": "c7891139",
   "metadata": {
    "execution": {
     "iopub.execute_input": "2024-08-17T16:19:08.527474Z",
     "iopub.status.busy": "2024-08-17T16:19:08.525890Z",
     "iopub.status.idle": "2024-08-17T16:19:08.545637Z",
     "shell.execute_reply": "2024-08-17T16:19:08.540279Z"
    },
    "papermill": {
     "duration": 0.045405,
     "end_time": "2024-08-17T16:19:08.547862",
     "exception": false,
     "start_time": "2024-08-17T16:19:08.502457",
     "status": "completed"
    },
    "tags": []
   },
   "outputs": [
    {
     "data": {
      "text/html": [
       "<style>\n",
       ".list-inline {list-style: none; margin:0; padding: 0}\n",
       ".list-inline>li {display: inline-block}\n",
       ".list-inline>li:not(:last-child)::after {content: \"\\00b7\"; padding: 0 .5ex}\n",
       "</style>\n",
       "<ol class=list-inline><li>1</li><li>4</li><li>9</li><li>16</li><li>25</li><li>36</li><li>49</li><li>64</li><li>81</li><li>100</li></ol>\n"
      ],
      "text/latex": [
       "\\begin{enumerate*}\n",
       "\\item 1\n",
       "\\item 4\n",
       "\\item 9\n",
       "\\item 16\n",
       "\\item 25\n",
       "\\item 36\n",
       "\\item 49\n",
       "\\item 64\n",
       "\\item 81\n",
       "\\item 100\n",
       "\\end{enumerate*}\n"
      ],
      "text/markdown": [
       "1. 1\n",
       "2. 4\n",
       "3. 9\n",
       "4. 16\n",
       "5. 25\n",
       "6. 36\n",
       "7. 49\n",
       "8. 64\n",
       "9. 81\n",
       "10. 100\n",
       "\n",
       "\n"
      ],
      "text/plain": [
       " [1]   1   4   9  16  25  36  49  64  81 100"
      ]
     },
     "metadata": {},
     "output_type": "display_data"
    }
   ],
   "source": [
    "group_numbers ^ 2"
   ]
  },
  {
   "cell_type": "markdown",
   "id": "761e90da",
   "metadata": {
    "papermill": {
     "duration": 0.02174,
     "end_time": "2024-08-17T16:19:08.591307",
     "exception": false,
     "start_time": "2024-08-17T16:19:08.569567",
     "status": "completed"
    },
    "tags": []
   },
   "source": [
    "### Vector Division"
   ]
  },
  {
   "cell_type": "code",
   "execution_count": 40,
   "id": "d8415c24",
   "metadata": {
    "execution": {
     "iopub.execute_input": "2024-08-17T16:19:08.638034Z",
     "iopub.status.busy": "2024-08-17T16:19:08.636498Z",
     "iopub.status.idle": "2024-08-17T16:19:08.654446Z",
     "shell.execute_reply": "2024-08-17T16:19:08.652764Z"
    },
    "papermill": {
     "duration": 0.043722,
     "end_time": "2024-08-17T16:19:08.656741",
     "exception": false,
     "start_time": "2024-08-17T16:19:08.613019",
     "status": "completed"
    },
    "tags": []
   },
   "outputs": [
    {
     "data": {
      "text/html": [
       "<style>\n",
       ".list-inline {list-style: none; margin:0; padding: 0}\n",
       ".list-inline>li {display: inline-block}\n",
       ".list-inline>li:not(:last-child)::after {content: \"\\00b7\"; padding: 0 .5ex}\n",
       "</style>\n",
       "<ol class=list-inline><li>0.5</li><li>1</li><li>1.5</li><li>2</li><li>2.5</li><li>3</li><li>3.5</li><li>4</li><li>4.5</li><li>5</li></ol>\n"
      ],
      "text/latex": [
       "\\begin{enumerate*}\n",
       "\\item 0.5\n",
       "\\item 1\n",
       "\\item 1.5\n",
       "\\item 2\n",
       "\\item 2.5\n",
       "\\item 3\n",
       "\\item 3.5\n",
       "\\item 4\n",
       "\\item 4.5\n",
       "\\item 5\n",
       "\\end{enumerate*}\n"
      ],
      "text/markdown": [
       "1. 0.5\n",
       "2. 1\n",
       "3. 1.5\n",
       "4. 2\n",
       "5. 2.5\n",
       "6. 3\n",
       "7. 3.5\n",
       "8. 4\n",
       "9. 4.5\n",
       "10. 5\n",
       "\n",
       "\n"
      ],
      "text/plain": [
       " [1] 0.5 1.0 1.5 2.0 2.5 3.0 3.5 4.0 4.5 5.0"
      ]
     },
     "metadata": {},
     "output_type": "display_data"
    }
   ],
   "source": [
    "g <- group_numbers / 2\n",
    "g"
   ]
  },
  {
   "cell_type": "markdown",
   "id": "308a7417",
   "metadata": {
    "papermill": {
     "duration": 0.02186,
     "end_time": "2024-08-17T16:19:08.700577",
     "exception": false,
     "start_time": "2024-08-17T16:19:08.678717",
     "status": "completed"
    },
    "tags": []
   },
   "source": [
    "### Class of Vector"
   ]
  },
  {
   "cell_type": "code",
   "execution_count": 41,
   "id": "cda32c92",
   "metadata": {
    "execution": {
     "iopub.execute_input": "2024-08-17T16:19:08.748042Z",
     "iopub.status.busy": "2024-08-17T16:19:08.746427Z",
     "iopub.status.idle": "2024-08-17T16:19:08.762730Z",
     "shell.execute_reply": "2024-08-17T16:19:08.761015Z"
    },
    "papermill": {
     "duration": 0.042593,
     "end_time": "2024-08-17T16:19:08.765043",
     "exception": false,
     "start_time": "2024-08-17T16:19:08.722450",
     "status": "completed"
    },
    "tags": []
   },
   "outputs": [
    {
     "data": {
      "text/html": [
       "'numeric'"
      ],
      "text/latex": [
       "'numeric'"
      ],
      "text/markdown": [
       "'numeric'"
      ],
      "text/plain": [
       "[1] \"numeric\""
      ]
     },
     "metadata": {},
     "output_type": "display_data"
    }
   ],
   "source": [
    "class(g)"
   ]
  },
  {
   "cell_type": "markdown",
   "id": "b832f734",
   "metadata": {
    "papermill": {
     "duration": 0.022207,
     "end_time": "2024-08-17T16:19:08.809303",
     "exception": false,
     "start_time": "2024-08-17T16:19:08.787096",
     "status": "completed"
    },
    "tags": []
   },
   "source": [
    "### Create and Display Vector with Integers"
   ]
  },
  {
   "cell_type": "code",
   "execution_count": 42,
   "id": "8742493e",
   "metadata": {
    "execution": {
     "iopub.execute_input": "2024-08-17T16:19:08.857114Z",
     "iopub.status.busy": "2024-08-17T16:19:08.855511Z",
     "iopub.status.idle": "2024-08-17T16:19:08.882329Z",
     "shell.execute_reply": "2024-08-17T16:19:08.876635Z"
    },
    "papermill": {
     "duration": 0.053258,
     "end_time": "2024-08-17T16:19:08.884913",
     "exception": false,
     "start_time": "2024-08-17T16:19:08.831655",
     "status": "completed"
    },
    "tags": []
   },
   "outputs": [
    {
     "data": {
      "text/html": [
       "'double'"
      ],
      "text/latex": [
       "'double'"
      ],
      "text/markdown": [
       "'double'"
      ],
      "text/plain": [
       "[1] \"double\""
      ]
     },
     "metadata": {},
     "output_type": "display_data"
    },
    {
     "data": {
      "text/html": [
       "5"
      ],
      "text/latex": [
       "5"
      ],
      "text/markdown": [
       "5"
      ],
      "text/plain": [
       "[1] 5"
      ]
     },
     "metadata": {},
     "output_type": "display_data"
    }
   ],
   "source": [
    "x <- c(133, 45, 23, 12, 1)\n",
    "typeof(x)\n",
    "length(x)"
   ]
  },
  {
   "cell_type": "markdown",
   "id": "fb6f8c51",
   "metadata": {
    "papermill": {
     "duration": 0.022477,
     "end_time": "2024-08-17T16:19:08.929965",
     "exception": false,
     "start_time": "2024-08-17T16:19:08.907488",
     "status": "completed"
    },
    "tags": []
   },
   "source": [
    "### Create and Display Mixed Type Vector"
   ]
  },
  {
   "cell_type": "code",
   "execution_count": 43,
   "id": "bd248602",
   "metadata": {
    "execution": {
     "iopub.execute_input": "2024-08-17T16:19:08.978457Z",
     "iopub.status.busy": "2024-08-17T16:19:08.976879Z",
     "iopub.status.idle": "2024-08-17T16:19:08.999398Z",
     "shell.execute_reply": "2024-08-17T16:19:08.997718Z"
    },
    "papermill": {
     "duration": 0.04938,
     "end_time": "2024-08-17T16:19:09.001619",
     "exception": false,
     "start_time": "2024-08-17T16:19:08.952239",
     "status": "completed"
    },
    "tags": []
   },
   "outputs": [
    {
     "data": {
      "text/html": [
       "<style>\n",
       ".list-inline {list-style: none; margin:0; padding: 0}\n",
       ".list-inline>li {display: inline-block}\n",
       ".list-inline>li:not(:last-child)::after {content: \"\\00b7\"; padding: 0 .5ex}\n",
       "</style>\n",
       "<ol class=list-inline><li>'33'</li><li>'132.4'</li><li>'TRUE'</li><li>'Python'</li><li>'FALSE'</li></ol>\n"
      ],
      "text/latex": [
       "\\begin{enumerate*}\n",
       "\\item '33'\n",
       "\\item '132.4'\n",
       "\\item 'TRUE'\n",
       "\\item 'Python'\n",
       "\\item 'FALSE'\n",
       "\\end{enumerate*}\n"
      ],
      "text/markdown": [
       "1. '33'\n",
       "2. '132.4'\n",
       "3. 'TRUE'\n",
       "4. 'Python'\n",
       "5. 'FALSE'\n",
       "\n",
       "\n"
      ],
      "text/plain": [
       "[1] \"33\"     \"132.4\"  \"TRUE\"   \"Python\" \"FALSE\" "
      ]
     },
     "metadata": {},
     "output_type": "display_data"
    },
    {
     "data": {
      "text/html": [
       "'character'"
      ],
      "text/latex": [
       "'character'"
      ],
      "text/markdown": [
       "'character'"
      ],
      "text/plain": [
       "[1] \"character\""
      ]
     },
     "metadata": {},
     "output_type": "display_data"
    }
   ],
   "source": [
    "x <- c(33, 132.4, TRUE, \"Python\", FALSE)\n",
    "x\n",
    "typeof(x)"
   ]
  },
  {
   "cell_type": "code",
   "execution_count": 44,
   "id": "7fe00476",
   "metadata": {
    "execution": {
     "iopub.execute_input": "2024-08-17T16:19:09.050405Z",
     "iopub.status.busy": "2024-08-17T16:19:09.048810Z",
     "iopub.status.idle": "2024-08-17T16:19:09.068976Z",
     "shell.execute_reply": "2024-08-17T16:19:09.067330Z"
    },
    "papermill": {
     "duration": 0.046867,
     "end_time": "2024-08-17T16:19:09.071202",
     "exception": false,
     "start_time": "2024-08-17T16:19:09.024335",
     "status": "completed"
    },
    "tags": []
   },
   "outputs": [
    {
     "data": {
      "text/html": [
       "'TRUE'"
      ],
      "text/latex": [
       "'TRUE'"
      ],
      "text/markdown": [
       "'TRUE'"
      ],
      "text/plain": [
       "[1] \"TRUE\""
      ]
     },
     "metadata": {},
     "output_type": "display_data"
    },
    {
     "data": {
      "text/html": [
       "'33'"
      ],
      "text/latex": [
       "'33'"
      ],
      "text/markdown": [
       "'33'"
      ],
      "text/plain": [
       "[1] \"33\""
      ]
     },
     "metadata": {},
     "output_type": "display_data"
    }
   ],
   "source": [
    "x[3]\n",
    "x[1]"
   ]
  },
  {
   "cell_type": "code",
   "execution_count": 45,
   "id": "1465a716",
   "metadata": {
    "execution": {
     "iopub.execute_input": "2024-08-17T16:19:09.120396Z",
     "iopub.status.busy": "2024-08-17T16:19:09.118825Z",
     "iopub.status.idle": "2024-08-17T16:19:09.138489Z",
     "shell.execute_reply": "2024-08-17T16:19:09.136888Z"
    },
    "papermill": {
     "duration": 0.046544,
     "end_time": "2024-08-17T16:19:09.140684",
     "exception": false,
     "start_time": "2024-08-17T16:19:09.094140",
     "status": "completed"
    },
    "tags": []
   },
   "outputs": [
    {
     "data": {
      "text/html": [
       "<style>\n",
       ".list-inline {list-style: none; margin:0; padding: 0}\n",
       ".list-inline>li {display: inline-block}\n",
       ".list-inline>li:not(:last-child)::after {content: \"\\00b7\"; padding: 0 .5ex}\n",
       "</style>\n",
       "<ol class=list-inline><li>'132.4'</li><li>'Python'</li></ol>\n"
      ],
      "text/latex": [
       "\\begin{enumerate*}\n",
       "\\item '132.4'\n",
       "\\item 'Python'\n",
       "\\end{enumerate*}\n"
      ],
      "text/markdown": [
       "1. '132.4'\n",
       "2. 'Python'\n",
       "\n",
       "\n"
      ],
      "text/plain": [
       "[1] \"132.4\"  \"Python\""
      ]
     },
     "metadata": {},
     "output_type": "display_data"
    }
   ],
   "source": [
    "x[c(2, 4)]"
   ]
  },
  {
   "cell_type": "markdown",
   "id": "9373e1c9",
   "metadata": {
    "papermill": {
     "duration": 0.023102,
     "end_time": "2024-08-17T16:19:09.186887",
     "exception": false,
     "start_time": "2024-08-17T16:19:09.163785",
     "status": "completed"
    },
    "tags": []
   },
   "source": [
    "### Create and Display Named Vector"
   ]
  },
  {
   "cell_type": "code",
   "execution_count": 46,
   "id": "0ab5c584",
   "metadata": {
    "execution": {
     "iopub.execute_input": "2024-08-17T16:19:09.238636Z",
     "iopub.status.busy": "2024-08-17T16:19:09.237030Z",
     "iopub.status.idle": "2024-08-17T16:19:09.273391Z",
     "shell.execute_reply": "2024-08-17T16:19:09.271645Z"
    },
    "papermill": {
     "duration": 0.064115,
     "end_time": "2024-08-17T16:19:09.275685",
     "exception": false,
     "start_time": "2024-08-17T16:19:09.211570",
     "status": "completed"
    },
    "tags": []
   },
   "outputs": [
    {
     "data": {
      "text/html": [
       "<style>\n",
       ".list-inline {list-style: none; margin:0; padding: 0}\n",
       ".list-inline>li {display: inline-block}\n",
       ".list-inline>li:not(:last-child)::after {content: \"\\00b7\"; padding: 0 .5ex}\n",
       "</style>\n",
       "<ol class=list-inline><li>'first_name'</li><li>'last_name'</li><li>'year'</li></ol>\n"
      ],
      "text/latex": [
       "\\begin{enumerate*}\n",
       "\\item 'first\\_name'\n",
       "\\item 'last\\_name'\n",
       "\\item 'year'\n",
       "\\end{enumerate*}\n"
      ],
      "text/markdown": [
       "1. 'first_name'\n",
       "2. 'last_name'\n",
       "3. 'year'\n",
       "\n",
       "\n"
      ],
      "text/plain": [
       "[1] \"first_name\" \"last_name\"  \"year\"      "
      ]
     },
     "metadata": {},
     "output_type": "display_data"
    },
    {
     "data": {
      "text/html": [
       "<strong>first_name:</strong> 'Xeroxnildo'"
      ],
      "text/latex": [
       "\\textbf{first\\textbackslash{}\\_name:} 'Xeroxnildo'"
      ],
      "text/markdown": [
       "**first_name:** 'Xeroxnildo'"
      ],
      "text/plain": [
       "  first_name \n",
       "\"Xeroxnildo\" "
      ]
     },
     "metadata": {},
     "output_type": "display_data"
    },
    {
     "data": {
      "text/html": [
       "<strong>last_name:</strong> 'Carlomeu'"
      ],
      "text/latex": [
       "\\textbf{last\\textbackslash{}\\_name:} 'Carlomeu'"
      ],
      "text/markdown": [
       "**last_name:** 'Carlomeu'"
      ],
      "text/plain": [
       " last_name \n",
       "\"Carlomeu\" "
      ]
     },
     "metadata": {},
     "output_type": "display_data"
    },
    {
     "data": {
      "text/html": [
       "<strong>year:</strong> '97'"
      ],
      "text/latex": [
       "\\textbf{year:} '97'"
      ],
      "text/markdown": [
       "**year:** '97'"
      ],
      "text/plain": [
       "year \n",
       "\"97\" "
      ]
     },
     "metadata": {},
     "output_type": "display_data"
    }
   ],
   "source": [
    "x <- c(\"first_name\"='Xeroxnildo', \"last_name\"='Carlomeu', \"year\"=97)\n",
    "names(x)\n",
    "x[\"first_name\"]\n",
    "x[\"last_name\"]\n",
    "x[\"year\"]"
   ]
  },
  {
   "cell_type": "markdown",
   "id": "9f2078dd",
   "metadata": {
    "papermill": {
     "duration": 0.023795,
     "end_time": "2024-08-17T16:19:09.323768",
     "exception": false,
     "start_time": "2024-08-17T16:19:09.299973",
     "status": "completed"
    },
    "tags": []
   },
   "source": [
    "### Sequence with Increment"
   ]
  },
  {
   "cell_type": "code",
   "execution_count": 47,
   "id": "8ed6e34d",
   "metadata": {
    "execution": {
     "iopub.execute_input": "2024-08-17T16:19:09.374377Z",
     "iopub.status.busy": "2024-08-17T16:19:09.372794Z",
     "iopub.status.idle": "2024-08-17T16:19:09.389661Z",
     "shell.execute_reply": "2024-08-17T16:19:09.387979Z"
    },
    "papermill": {
     "duration": 0.044626,
     "end_time": "2024-08-17T16:19:09.392007",
     "exception": false,
     "start_time": "2024-08-17T16:19:09.347381",
     "status": "completed"
    },
    "tags": []
   },
   "outputs": [
    {
     "data": {
      "text/html": [
       "<style>\n",
       ".list-inline {list-style: none; margin:0; padding: 0}\n",
       ".list-inline>li {display: inline-block}\n",
       ".list-inline>li:not(:last-child)::after {content: \"\\00b7\"; padding: 0 .5ex}\n",
       "</style>\n",
       "<ol class=list-inline><li>1</li><li>1.7</li><li>2.4</li><li>3.1</li><li>3.8</li><li>4.5</li><li>5.2</li><li>5.9</li><li>6.6</li><li>7.3</li><li>8</li><li>8.7</li><li>9.4</li><li>10.1</li><li>10.8</li><li>11.5</li><li>12.2</li><li>12.9</li><li>13.6</li><li>14.3</li><li>15</li><li>15.7</li><li>16.4</li><li>17.1</li><li>17.8</li><li>18.5</li><li>19.2</li><li>19.9</li><li>20.6</li><li>21.3</li><li>22</li><li>22.7</li><li>23.4</li><li>24.1</li><li>24.8</li><li>25.5</li><li>26.2</li><li>26.9</li><li>27.6</li><li>28.3</li><li>29</li><li>29.7</li><li>30.4</li><li>31.1</li><li>31.8</li><li>32.5</li><li>33.2</li><li>33.9</li><li>34.6</li><li>35.3</li><li>36</li><li>36.7</li><li>37.4</li><li>38.1</li><li>38.8</li><li>39.5</li></ol>\n"
      ],
      "text/latex": [
       "\\begin{enumerate*}\n",
       "\\item 1\n",
       "\\item 1.7\n",
       "\\item 2.4\n",
       "\\item 3.1\n",
       "\\item 3.8\n",
       "\\item 4.5\n",
       "\\item 5.2\n",
       "\\item 5.9\n",
       "\\item 6.6\n",
       "\\item 7.3\n",
       "\\item 8\n",
       "\\item 8.7\n",
       "\\item 9.4\n",
       "\\item 10.1\n",
       "\\item 10.8\n",
       "\\item 11.5\n",
       "\\item 12.2\n",
       "\\item 12.9\n",
       "\\item 13.6\n",
       "\\item 14.3\n",
       "\\item 15\n",
       "\\item 15.7\n",
       "\\item 16.4\n",
       "\\item 17.1\n",
       "\\item 17.8\n",
       "\\item 18.5\n",
       "\\item 19.2\n",
       "\\item 19.9\n",
       "\\item 20.6\n",
       "\\item 21.3\n",
       "\\item 22\n",
       "\\item 22.7\n",
       "\\item 23.4\n",
       "\\item 24.1\n",
       "\\item 24.8\n",
       "\\item 25.5\n",
       "\\item 26.2\n",
       "\\item 26.9\n",
       "\\item 27.6\n",
       "\\item 28.3\n",
       "\\item 29\n",
       "\\item 29.7\n",
       "\\item 30.4\n",
       "\\item 31.1\n",
       "\\item 31.8\n",
       "\\item 32.5\n",
       "\\item 33.2\n",
       "\\item 33.9\n",
       "\\item 34.6\n",
       "\\item 35.3\n",
       "\\item 36\n",
       "\\item 36.7\n",
       "\\item 37.4\n",
       "\\item 38.1\n",
       "\\item 38.8\n",
       "\\item 39.5\n",
       "\\end{enumerate*}\n"
      ],
      "text/markdown": [
       "1. 1\n",
       "2. 1.7\n",
       "3. 2.4\n",
       "4. 3.1\n",
       "5. 3.8\n",
       "6. 4.5\n",
       "7. 5.2\n",
       "8. 5.9\n",
       "9. 6.6\n",
       "10. 7.3\n",
       "11. 8\n",
       "12. 8.7\n",
       "13. 9.4\n",
       "14. 10.1\n",
       "15. 10.8\n",
       "16. 11.5\n",
       "17. 12.2\n",
       "18. 12.9\n",
       "19. 13.6\n",
       "20. 14.3\n",
       "21. 15\n",
       "22. 15.7\n",
       "23. 16.4\n",
       "24. 17.1\n",
       "25. 17.8\n",
       "26. 18.5\n",
       "27. 19.2\n",
       "28. 19.9\n",
       "29. 20.6\n",
       "30. 21.3\n",
       "31. 22\n",
       "32. 22.7\n",
       "33. 23.4\n",
       "34. 24.1\n",
       "35. 24.8\n",
       "36. 25.5\n",
       "37. 26.2\n",
       "38. 26.9\n",
       "39. 27.6\n",
       "40. 28.3\n",
       "41. 29\n",
       "42. 29.7\n",
       "43. 30.4\n",
       "44. 31.1\n",
       "45. 31.8\n",
       "46. 32.5\n",
       "47. 33.2\n",
       "48. 33.9\n",
       "49. 34.6\n",
       "50. 35.3\n",
       "51. 36\n",
       "52. 36.7\n",
       "53. 37.4\n",
       "54. 38.1\n",
       "55. 38.8\n",
       "56. 39.5\n",
       "\n",
       "\n"
      ],
      "text/plain": [
       " [1]  1.0  1.7  2.4  3.1  3.8  4.5  5.2  5.9  6.6  7.3  8.0  8.7  9.4 10.1 10.8\n",
       "[16] 11.5 12.2 12.9 13.6 14.3 15.0 15.7 16.4 17.1 17.8 18.5 19.2 19.9 20.6 21.3\n",
       "[31] 22.0 22.7 23.4 24.1 24.8 25.5 26.2 26.9 27.6 28.3 29.0 29.7 30.4 31.1 31.8\n",
       "[46] 32.5 33.2 33.9 34.6 35.3 36.0 36.7 37.4 38.1 38.8 39.5"
      ]
     },
     "metadata": {},
     "output_type": "display_data"
    }
   ],
   "source": [
    "seq(1, 40, by=0.7)"
   ]
  },
  {
   "cell_type": "markdown",
   "id": "285a55c3",
   "metadata": {
    "papermill": {
     "duration": 0.024139,
     "end_time": "2024-08-17T16:19:09.441658",
     "exception": false,
     "start_time": "2024-08-17T16:19:09.417519",
     "status": "completed"
    },
    "tags": []
   },
   "source": [
    "### Sequence with Length"
   ]
  },
  {
   "cell_type": "code",
   "execution_count": 48,
   "id": "12f25c74",
   "metadata": {
    "execution": {
     "iopub.execute_input": "2024-08-17T16:19:09.495326Z",
     "iopub.status.busy": "2024-08-17T16:19:09.493682Z",
     "iopub.status.idle": "2024-08-17T16:19:09.513608Z",
     "shell.execute_reply": "2024-08-17T16:19:09.511955Z"
    },
    "papermill": {
     "duration": 0.048748,
     "end_time": "2024-08-17T16:19:09.515843",
     "exception": false,
     "start_time": "2024-08-17T16:19:09.467095",
     "status": "completed"
    },
    "tags": []
   },
   "outputs": [
    {
     "data": {
      "text/html": [
       "<style>\n",
       ".list-inline {list-style: none; margin:0; padding: 0}\n",
       ".list-inline>li {display: inline-block}\n",
       ".list-inline>li:not(:last-child)::after {content: \"\\00b7\"; padding: 0 .5ex}\n",
       "</style>\n",
       "<ol class=list-inline><li>1</li><li>2.8</li><li>4.6</li><li>6.4</li><li>8.2</li><li>10</li></ol>\n"
      ],
      "text/latex": [
       "\\begin{enumerate*}\n",
       "\\item 1\n",
       "\\item 2.8\n",
       "\\item 4.6\n",
       "\\item 6.4\n",
       "\\item 8.2\n",
       "\\item 10\n",
       "\\end{enumerate*}\n"
      ],
      "text/markdown": [
       "1. 1\n",
       "2. 2.8\n",
       "3. 4.6\n",
       "4. 6.4\n",
       "5. 8.2\n",
       "6. 10\n",
       "\n",
       "\n"
      ],
      "text/plain": [
       "[1]  1.0  2.8  4.6  6.4  8.2 10.0"
      ]
     },
     "metadata": {},
     "output_type": "display_data"
    }
   ],
   "source": [
    "seq(1, 10, length.out=6)"
   ]
  },
  {
   "cell_type": "markdown",
   "id": "5daabd10",
   "metadata": {
    "papermill": {
     "duration": 0.023893,
     "end_time": "2024-08-17T16:19:09.563502",
     "exception": false,
     "start_time": "2024-08-17T16:19:09.539609",
     "status": "completed"
    },
    "tags": []
   },
   "source": [
    "-------------\n",
    "\n",
    "## Decision and repetition structures"
   ]
  },
  {
   "cell_type": "markdown",
   "id": "bd3b2ed1",
   "metadata": {
    "papermill": {
     "duration": 0.023775,
     "end_time": "2024-08-17T16:19:09.611074",
     "exception": false,
     "start_time": "2024-08-17T16:19:09.587299",
     "status": "completed"
    },
    "tags": []
   },
   "source": [
    "### Variable Assignment and Printing"
   ]
  },
  {
   "cell_type": "code",
   "execution_count": 49,
   "id": "552718bf",
   "metadata": {
    "execution": {
     "iopub.execute_input": "2024-08-17T16:19:09.662739Z",
     "iopub.status.busy": "2024-08-17T16:19:09.661197Z",
     "iopub.status.idle": "2024-08-17T16:19:09.678570Z",
     "shell.execute_reply": "2024-08-17T16:19:09.676639Z"
    },
    "papermill": {
     "duration": 0.045513,
     "end_time": "2024-08-17T16:19:09.680793",
     "exception": false,
     "start_time": "2024-08-17T16:19:09.635280",
     "status": "completed"
    },
    "tags": []
   },
   "outputs": [
    {
     "name": "stdout",
     "output_type": "stream",
     "text": [
      "[1] \"Python is better than R ?\"\n"
     ]
    }
   ],
   "source": [
    "question <- 'Python is better than R ?'\n",
    "print(question)\n"
   ]
  },
  {
   "cell_type": "markdown",
   "id": "b86c4ac3",
   "metadata": {
    "papermill": {
     "duration": 0.02414,
     "end_time": "2024-08-17T16:19:09.729394",
     "exception": false,
     "start_time": "2024-08-17T16:19:09.705254",
     "status": "completed"
    },
    "tags": []
   },
   "source": [
    "### Simple If Statement"
   ]
  },
  {
   "cell_type": "code",
   "execution_count": 50,
   "id": "11bdc394",
   "metadata": {
    "execution": {
     "iopub.execute_input": "2024-08-17T16:19:09.781099Z",
     "iopub.status.busy": "2024-08-17T16:19:09.779538Z",
     "iopub.status.idle": "2024-08-17T16:19:09.796396Z",
     "shell.execute_reply": "2024-08-17T16:19:09.794481Z"
    },
    "papermill": {
     "duration": 0.045013,
     "end_time": "2024-08-17T16:19:09.798632",
     "exception": false,
     "start_time": "2024-08-17T16:19:09.753619",
     "status": "completed"
    },
    "tags": []
   },
   "outputs": [
    {
     "name": "stdout",
     "output_type": "stream",
     "text": [
      "[1] \"True\"\n"
     ]
    }
   ],
   "source": [
    "x <- TRUE\n",
    "if(x){\n",
    "   print(\"True\")\n",
    "}"
   ]
  },
  {
   "cell_type": "markdown",
   "id": "d97e8f6b",
   "metadata": {
    "papermill": {
     "duration": 0.024338,
     "end_time": "2024-08-17T16:19:09.847030",
     "exception": false,
     "start_time": "2024-08-17T16:19:09.822692",
     "status": "completed"
    },
    "tags": []
   },
   "source": [
    "### If-Else Statement"
   ]
  },
  {
   "cell_type": "code",
   "execution_count": 51,
   "id": "1f7e6ce1",
   "metadata": {
    "execution": {
     "iopub.execute_input": "2024-08-17T16:19:09.899058Z",
     "iopub.status.busy": "2024-08-17T16:19:09.897411Z",
     "iopub.status.idle": "2024-08-17T16:19:09.917897Z",
     "shell.execute_reply": "2024-08-17T16:19:09.916069Z"
    },
    "papermill": {
     "duration": 0.048927,
     "end_time": "2024-08-17T16:19:09.920181",
     "exception": false,
     "start_time": "2024-08-17T16:19:09.871254",
     "status": "completed"
    },
    "tags": []
   },
   "outputs": [
    {
     "name": "stdout",
     "output_type": "stream",
     "text": [
      "[1] \"FALSE\"\n"
     ]
    }
   ],
   "source": [
    "x <- -100\n",
    "if(x > 0){\n",
    "   print(\"TRUE\")\n",
    "} else {\n",
    "   print(\"FALSE\")\n",
    "}"
   ]
  },
  {
   "cell_type": "markdown",
   "id": "4da53343",
   "metadata": {
    "papermill": {
     "duration": 0.024484,
     "end_time": "2024-08-17T16:19:09.968902",
     "exception": false,
     "start_time": "2024-08-17T16:19:09.944418",
     "status": "completed"
    },
    "tags": []
   },
   "source": [
    "### For Loop with Conditional Increment"
   ]
  },
  {
   "cell_type": "code",
   "execution_count": 52,
   "id": "cc839a4d",
   "metadata": {
    "execution": {
     "iopub.execute_input": "2024-08-17T16:19:10.021285Z",
     "iopub.status.busy": "2024-08-17T16:19:10.019706Z",
     "iopub.status.idle": "2024-08-17T16:19:10.044307Z",
     "shell.execute_reply": "2024-08-17T16:19:10.042375Z"
    },
    "papermill": {
     "duration": 0.053227,
     "end_time": "2024-08-17T16:19:10.046559",
     "exception": false,
     "start_time": "2024-08-17T16:19:09.993332",
     "status": "completed"
    },
    "tags": []
   },
   "outputs": [
    {
     "name": "stdout",
     "output_type": "stream",
     "text": [
      "[1] 4\n"
     ]
    }
   ],
   "source": [
    "x <- c(33,12,6,2,1,13,154)\n",
    "count <- 0\n",
    "for (val in x) {\n",
    "    if(val %% 2 == 0)  count = count+1\n",
    "}\n",
    "print(count)"
   ]
  },
  {
   "cell_type": "markdown",
   "id": "07e1696c",
   "metadata": {
    "papermill": {
     "duration": 0.024251,
     "end_time": "2024-08-17T16:19:10.095155",
     "exception": false,
     "start_time": "2024-08-17T16:19:10.070904",
     "status": "completed"
    },
    "tags": []
   },
   "source": [
    "## About the author:\n",
    "\n",
    "\n",
    "**A little more about me...**\n",
    "\n",
    "Graduated in Bachelor of Information Systems, in college I had contact with different technologies. Along the way, I took the Artificial Intelligence course, where I had my first contact with machine learning and Python. From this it became my passion to learn about this area. Today I work with machine learning and deep learning developing communication software. Along the way, I created a blog where I create some posts about subjects that I am studying and share them to help other users.\n",
    "\n",
    "I'm currently learning TensorFlow and Computer Vision\n",
    "\n",
    "Curiosity: I love coffee\n",
    "\n",
    "- [Kaggle](https://www.kaggle.com/sc0v1n0)\n",
    "- [Gitlab](https://gitlab.com/sc0v0n3)\n",
    "- [Github](https://github.com/sc0v0ne)\n",
    "- [Mastodon](https://mastodon.social/@sc0v0ne)\n",
    "\n",
    "## Favorites Projects Open Source\n",
    "\n",
    "- [🐍 Python](https://github.com/stars/sc0v0ne/lists/python)\n",
    "- [🖥️ Deep Learning](https://github.com/stars/sc0v0ne/lists/deep-learning)\n",
    "- [👀 Computer Vision](https://github.com/stars/sc0v0ne/lists/computer-vision)\n",
    "- [🖥️ Linux](https://github.com/stars/sc0v0ne/lists/linux)\n",
    "- [📉 Times Series](https://github.com/stars/sc0v0ne/lists/times-series)\n",
    "- [💾 Database](https://github.com/stars/sc0v0ne/lists/database)\n",
    "- [🦀 Rust](https://github.com/stars/sc0v0ne/lists/rust)\n",
    "- [🖥️ Machine Learning](https://github.com/stars/sc0v0ne/lists/machine-learning)\n",
    "- [🛣️ Roadmaps](https://github.com/stars/sc0v0ne/lists/roadmaps)\n",
    "\n",
    "----\n",
    "\n"
   ]
  }
 ],
 "metadata": {
  "kaggle": {
   "accelerator": "none",
   "dataSources": [],
   "dockerImageVersionId": 30749,
   "isGpuEnabled": false,
   "isInternetEnabled": true,
   "language": "r",
   "sourceType": "notebook"
  },
  "kernelspec": {
   "display_name": "R",
   "language": "R",
   "name": "ir"
  },
  "language_info": {
   "codemirror_mode": "r",
   "file_extension": ".r",
   "mimetype": "text/x-r-source",
   "name": "R",
   "pygments_lexer": "r",
   "version": "4.4.0"
  },
  "papermill": {
   "default_parameters": {},
   "duration": 8.672197,
   "end_time": "2024-08-17T16:19:10.240220",
   "environment_variables": {},
   "exception": null,
   "input_path": "__notebook__.ipynb",
   "output_path": "__notebook__.ipynb",
   "parameters": {},
   "start_time": "2024-08-17T16:19:01.568023",
   "version": "2.6.0"
  }
 },
 "nbformat": 4,
 "nbformat_minor": 5
}
